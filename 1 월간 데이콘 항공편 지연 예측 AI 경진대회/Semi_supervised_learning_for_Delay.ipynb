{
 "cells": [
  {
   "cell_type": "code",
   "execution_count": 39,
   "id": "f640e114",
   "metadata": {},
   "outputs": [],
   "source": [
    "import numpy as np\n",
    "import pandas as pd\n",
    "import matplotlib.pyplot as plt\n",
    "import seaborn as sns\n",
    "\n",
    "from sklearn.metrics import mean_squared_error\n",
    "from sklearn.model_selection import train_test_split\n",
    "from sklearn.metrics import accuracy_score\n"
   ]
  },
  {
   "cell_type": "code",
   "execution_count": 52,
   "id": "cbf36ddf",
   "metadata": {},
   "outputs": [],
   "source": [
    "train  = pd.read_csv(\"train.csv\")"
   ]
  },
  {
   "cell_type": "code",
   "execution_count": 53,
   "id": "d242766f",
   "metadata": {},
   "outputs": [],
   "source": [
    "features = ['Month', 'Estimated_Departure_Time', 'Origin_Airport_ID',\n",
    "       'Destination_Airport_ID', 'Distance', 'Carrier_ID(DOT)', 'Flight_Time']"
   ]
  },
  {
   "cell_type": "code",
   "execution_count": 54,
   "id": "f202373d",
   "metadata": {},
   "outputs": [],
   "source": [
    "train['Delay'] = train['Delay'].replace({'Not_Delayed': 0, 'Delayed': 1})"
   ]
  },
  {
   "cell_type": "code",
   "execution_count": 58,
   "id": "246897a2",
   "metadata": {},
   "outputs": [],
   "source": [
    "# reference : https://www.kaggle.com/code/rinnqd/reduce-memory-usage/notebook\n",
    "def reduce_mem_usage(df, verbose=True):\n",
    "    numerics = ['int16', 'int32', 'int64', 'float16', 'float32', 'float64']\n",
    "    start_mem = df.memory_usage().sum() / 1024**2\n",
    "    for col in df.columns:\n",
    "        col_type = df[col].dtypes\n",
    "        if col_type in numerics:\n",
    "            c_min = df[col].min()\n",
    "            c_max = df[col].max()\n",
    "            if str(col_type)[:3] == 'int':\n",
    "                if c_min > np.iinfo(np.int8).min and c_max < np.iinfo(np.int8).max:\n",
    "                    df[col] = df[col].astype(np.int8)\n",
    "                elif c_min > np.iinfo(np.int16).min and c_max < np.iinfo(np.int16).max:\n",
    "                    df[col] = df[col].astype(np.int16)\n",
    "                elif c_min > np.iinfo(np.int32).min and c_max < np.iinfo(np.int32).max:\n",
    "                    df[col] = df[col].astype(np.int32)\n",
    "                elif c_min > np.iinfo(np.int64).min and c_max < np.iinfo(np.int64).max:\n",
    "                    df[col] = df[col].astype(np.int64)\n",
    "            else:\n",
    "                if c_min > np.finfo(np.float16).min and c_max < np.finfo(np.float16).max:\n",
    "                    df[col] = df[col].astype(np.float16)\n",
    "                elif c_min > np.finfo(np.float32).min and c_max < np.finfo(np.float32).max:\n",
    "                    df[col] = df[col].astype(np.float32)\n",
    "                else:\n",
    "                    df[col] = df[col].astype(np.float64)\n",
    "\n",
    "    end_mem = df.memory_usage().sum() / 1024**2\n",
    "    print('Memory usage after optimization is: {:.2f} MB'.format(end_mem))\n",
    "    print('Decreased by {:.1f}%'.format(100 * (start_mem - end_mem) / start_mem))\n",
    "\n",
    "    return df"
   ]
  },
  {
   "cell_type": "code",
   "execution_count": 59,
   "id": "5f13b963",
   "metadata": {},
   "outputs": [
    {
     "name": "stdout",
     "output_type": "stream",
     "text": [
      "Memory usage after optimization is: 14.31 MB\n",
      "Decreased by 76.6%\n"
     ]
    }
   ],
   "source": [
    "train = reduce_mem_usage(train)"
   ]
  },
  {
   "cell_type": "code",
   "execution_count": 60,
   "id": "63bf4c01",
   "metadata": {},
   "outputs": [
    {
     "name": "stdout",
     "output_type": "stream",
     "text": [
      "<class 'pandas.core.frame.DataFrame'>\n",
      "RangeIndex: 1000000 entries, 0 to 999999\n",
      "Data columns (total 8 columns):\n",
      " #   Column                    Non-Null Count    Dtype  \n",
      "---  ------                    --------------    -----  \n",
      " 0   Month                     1000000 non-null  int8   \n",
      " 1   Estimated_Departure_Time  1000000 non-null  int16  \n",
      " 2   Origin_Airport_ID         1000000 non-null  int16  \n",
      " 3   Destination_Airport_ID    1000000 non-null  int16  \n",
      " 4   Distance                  1000000 non-null  float16\n",
      " 5   Carrier_ID(DOT)           1000000 non-null  float16\n",
      " 6   Flight_Time               1000000 non-null  float16\n",
      " 7   Delay                     255001 non-null   float16\n",
      "dtypes: float16(4), int16(3), int8(1)\n",
      "memory usage: 14.3 MB\n"
     ]
    }
   ],
   "source": [
    "train.info()"
   ]
  },
  {
   "cell_type": "code",
   "execution_count": 61,
   "id": "0874f5c6",
   "metadata": {},
   "outputs": [],
   "source": [
    "semi_train = train.dropna()"
   ]
  },
  {
   "cell_type": "code",
   "execution_count": 62,
   "id": "679c3106",
   "metadata": {},
   "outputs": [],
   "source": [
    "semi_test = train[train.isna().any(axis=1)].drop([target_variable], axis=1)\n"
   ]
  },
  {
   "cell_type": "code",
   "execution_count": 63,
   "id": "5bee8f82",
   "metadata": {},
   "outputs": [
    {
     "name": "stdout",
     "output_type": "stream",
     "text": [
      "210001 45000\n"
     ]
    }
   ],
   "source": [
    "print(train['Delay'].value_counts().get(0., 0),train['Delay'].value_counts().get(1., 0))\n",
    "# 4 : 1"
   ]
  },
  {
   "cell_type": "code",
   "execution_count": 64,
   "id": "a6fd6ba6",
   "metadata": {},
   "outputs": [
    {
     "name": "stderr",
     "output_type": "stream",
     "text": [
      "C:\\Users\\rlwns\\anaconda3\\lib\\site-packages\\sklearn\\cluster\\_kmeans.py:1043: UserWarning: MiniBatchKMeans is known to have a memory leak on Windows with MKL, when there are less chunks than available threads. You can prevent it by setting batch_size >= 2048 or by setting the environment variable OMP_NUM_THREADS=4\n",
      "  warnings.warn(\n"
     ]
    }
   ],
   "source": [
    "from sklearn.cluster import MiniBatchKMeans\n",
    "\n",
    "# Semi-supervised learning\n",
    "mbk_model = MiniBatchKMeans(n_clusters=2)\n",
    "mbk_model.fit(semi_train[features], semi_train[target_variable])\n",
    "predictions = mbk_model.predict(semi_test[features])\n"
   ]
  },
  {
   "cell_type": "code",
   "execution_count": 65,
   "id": "a257c368",
   "metadata": {},
   "outputs": [
    {
     "name": "stdout",
     "output_type": "stream",
     "text": [
      "359120 385879\n"
     ]
    }
   ],
   "source": [
    "print(list(predictions).count(0), list(predictions).count(1))\n",
    "\n",
    "# 1 : 1"
   ]
  },
  {
   "cell_type": "code",
   "execution_count": 69,
   "id": "b8543ae2",
   "metadata": {},
   "outputs": [
    {
     "data": {
      "text/plain": [
       "744999"
      ]
     },
     "execution_count": 69,
     "metadata": {},
     "output_type": "execute_result"
    }
   ],
   "source": [
    "359120 + 385879\n"
   ]
  },
  {
   "cell_type": "code",
   "execution_count": 66,
   "id": "98b8a234",
   "metadata": {},
   "outputs": [],
   "source": [
    "from sklearn.mixture import GaussianMixture\n",
    "\n",
    "# Semi-supervised learning\n",
    "gm_model = GaussianMixture(n_components=2)\n",
    "gm_model.fit(semi_train[features], semi_train[target_variable])\n",
    "predictions3 = gm_model.predict(semi_test[features])\n"
   ]
  },
  {
   "cell_type": "code",
   "execution_count": 67,
   "id": "b1e6d558",
   "metadata": {
    "scrolled": true
   },
   "outputs": [
    {
     "name": "stdout",
     "output_type": "stream",
     "text": [
      "590193 154806\n"
     ]
    }
   ],
   "source": [
    "print(list(predictions3).count(0), list(predictions3).count(1))\n",
    "\n",
    "# 4 : 1"
   ]
  },
  {
   "cell_type": "code",
   "execution_count": 68,
   "id": "9b96f067",
   "metadata": {},
   "outputs": [
    {
     "data": {
      "text/plain": [
       "744999"
      ]
     },
     "execution_count": 68,
     "metadata": {},
     "output_type": "execute_result"
    }
   ],
   "source": [
    "591225 + 153774"
   ]
  },
  {
   "cell_type": "code",
   "execution_count": 71,
   "id": "d23ccef9",
   "metadata": {},
   "outputs": [],
   "source": [
    "semi_test[target_variable] = predictions3"
   ]
  },
  {
   "cell_type": "code",
   "execution_count": 72,
   "id": "3f93c084",
   "metadata": {
    "scrolled": true
   },
   "outputs": [
    {
     "data": {
      "text/html": [
       "<div>\n",
       "<style scoped>\n",
       "    .dataframe tbody tr th:only-of-type {\n",
       "        vertical-align: middle;\n",
       "    }\n",
       "\n",
       "    .dataframe tbody tr th {\n",
       "        vertical-align: top;\n",
       "    }\n",
       "\n",
       "    .dataframe thead th {\n",
       "        text-align: right;\n",
       "    }\n",
       "</style>\n",
       "<table border=\"1\" class=\"dataframe\">\n",
       "  <thead>\n",
       "    <tr style=\"text-align: right;\">\n",
       "      <th></th>\n",
       "      <th>Month</th>\n",
       "      <th>Estimated_Departure_Time</th>\n",
       "      <th>Origin_Airport_ID</th>\n",
       "      <th>Destination_Airport_ID</th>\n",
       "      <th>Distance</th>\n",
       "      <th>Carrier_ID(DOT)</th>\n",
       "      <th>Flight_Time</th>\n",
       "      <th>Delay</th>\n",
       "    </tr>\n",
       "  </thead>\n",
       "  <tbody>\n",
       "    <tr>\n",
       "      <th>0</th>\n",
       "      <td>4</td>\n",
       "      <td>600</td>\n",
       "      <td>13851</td>\n",
       "      <td>12191</td>\n",
       "      <td>419.0</td>\n",
       "      <td>19392.0</td>\n",
       "      <td>97.625</td>\n",
       "      <td>0</td>\n",
       "    </tr>\n",
       "    <tr>\n",
       "      <th>1</th>\n",
       "      <td>8</td>\n",
       "      <td>740</td>\n",
       "      <td>13930</td>\n",
       "      <td>14869</td>\n",
       "      <td>1250.0</td>\n",
       "      <td>20304.0</td>\n",
       "      <td>164.000</td>\n",
       "      <td>1</td>\n",
       "    </tr>\n",
       "    <tr>\n",
       "      <th>2</th>\n",
       "      <td>9</td>\n",
       "      <td>1610</td>\n",
       "      <td>11057</td>\n",
       "      <td>12953</td>\n",
       "      <td>544.0</td>\n",
       "      <td>19808.0</td>\n",
       "      <td>115.000</td>\n",
       "      <td>0</td>\n",
       "    </tr>\n",
       "    <tr>\n",
       "      <th>3</th>\n",
       "      <td>7</td>\n",
       "      <td>905</td>\n",
       "      <td>12892</td>\n",
       "      <td>11618</td>\n",
       "      <td>2454.0</td>\n",
       "      <td>19984.0</td>\n",
       "      <td>510.000</td>\n",
       "      <td>1</td>\n",
       "    </tr>\n",
       "    <tr>\n",
       "      <th>4</th>\n",
       "      <td>1</td>\n",
       "      <td>900</td>\n",
       "      <td>14771</td>\n",
       "      <td>10157</td>\n",
       "      <td>250.0</td>\n",
       "      <td>20304.0</td>\n",
       "      <td>79.000</td>\n",
       "      <td>0</td>\n",
       "    </tr>\n",
       "    <tr>\n",
       "      <th>...</th>\n",
       "      <td>...</td>\n",
       "      <td>...</td>\n",
       "      <td>...</td>\n",
       "      <td>...</td>\n",
       "      <td>...</td>\n",
       "      <td>...</td>\n",
       "      <td>...</td>\n",
       "      <td>...</td>\n",
       "    </tr>\n",
       "    <tr>\n",
       "      <th>999995</th>\n",
       "      <td>9</td>\n",
       "      <td>936</td>\n",
       "      <td>13930</td>\n",
       "      <td>14100</td>\n",
       "      <td>678.0</td>\n",
       "      <td>19984.0</td>\n",
       "      <td>187.000</td>\n",
       "      <td>0</td>\n",
       "    </tr>\n",
       "    <tr>\n",
       "      <th>999996</th>\n",
       "      <td>5</td>\n",
       "      <td>920</td>\n",
       "      <td>11637</td>\n",
       "      <td>13487</td>\n",
       "      <td>223.0</td>\n",
       "      <td>20304.0</td>\n",
       "      <td>68.000</td>\n",
       "      <td>0</td>\n",
       "    </tr>\n",
       "    <tr>\n",
       "      <th>999997</th>\n",
       "      <td>6</td>\n",
       "      <td>800</td>\n",
       "      <td>13796</td>\n",
       "      <td>12191</td>\n",
       "      <td>1642.0</td>\n",
       "      <td>19392.0</td>\n",
       "      <td>340.000</td>\n",
       "      <td>1</td>\n",
       "    </tr>\n",
       "    <tr>\n",
       "      <th>999998</th>\n",
       "      <td>9</td>\n",
       "      <td>1613</td>\n",
       "      <td>10693</td>\n",
       "      <td>10397</td>\n",
       "      <td>214.0</td>\n",
       "      <td>19792.0</td>\n",
       "      <td>131.000</td>\n",
       "      <td>0</td>\n",
       "    </tr>\n",
       "    <tr>\n",
       "      <th>999999</th>\n",
       "      <td>3</td>\n",
       "      <td>1800</td>\n",
       "      <td>14635</td>\n",
       "      <td>11433</td>\n",
       "      <td>1084.0</td>\n",
       "      <td>19792.0</td>\n",
       "      <td>176.000</td>\n",
       "      <td>0</td>\n",
       "    </tr>\n",
       "  </tbody>\n",
       "</table>\n",
       "<p>744999 rows × 8 columns</p>\n",
       "</div>"
      ],
      "text/plain": [
       "        Month  Estimated_Departure_Time  Origin_Airport_ID  \\\n",
       "0           4                       600              13851   \n",
       "1           8                       740              13930   \n",
       "2           9                      1610              11057   \n",
       "3           7                       905              12892   \n",
       "4           1                       900              14771   \n",
       "...       ...                       ...                ...   \n",
       "999995      9                       936              13930   \n",
       "999996      5                       920              11637   \n",
       "999997      6                       800              13796   \n",
       "999998      9                      1613              10693   \n",
       "999999      3                      1800              14635   \n",
       "\n",
       "        Destination_Airport_ID  Distance  Carrier_ID(DOT)  Flight_Time  Delay  \n",
       "0                        12191     419.0          19392.0       97.625      0  \n",
       "1                        14869    1250.0          20304.0      164.000      1  \n",
       "2                        12953     544.0          19808.0      115.000      0  \n",
       "3                        11618    2454.0          19984.0      510.000      1  \n",
       "4                        10157     250.0          20304.0       79.000      0  \n",
       "...                        ...       ...              ...          ...    ...  \n",
       "999995                   14100     678.0          19984.0      187.000      0  \n",
       "999996                   13487     223.0          20304.0       68.000      0  \n",
       "999997                   12191    1642.0          19392.0      340.000      1  \n",
       "999998                   10397     214.0          19792.0      131.000      0  \n",
       "999999                   11433    1084.0          19792.0      176.000      0  \n",
       "\n",
       "[744999 rows x 8 columns]"
      ]
     },
     "execution_count": 72,
     "metadata": {},
     "output_type": "execute_result"
    }
   ],
   "source": [
    "semi_test"
   ]
  },
  {
   "cell_type": "code",
   "execution_count": 73,
   "id": "46406642",
   "metadata": {},
   "outputs": [],
   "source": [
    "merged_df = pd.concat([semi_train, semi_test], axis=0)\n"
   ]
  },
  {
   "cell_type": "code",
   "execution_count": 75,
   "id": "5d5bb487",
   "metadata": {},
   "outputs": [],
   "source": [
    "merged_df.reset_index(drop=True, inplace=True)\n"
   ]
  },
  {
   "cell_type": "code",
   "execution_count": 76,
   "id": "64c10e77",
   "metadata": {
    "scrolled": true
   },
   "outputs": [
    {
     "data": {
      "text/html": [
       "<div>\n",
       "<style scoped>\n",
       "    .dataframe tbody tr th:only-of-type {\n",
       "        vertical-align: middle;\n",
       "    }\n",
       "\n",
       "    .dataframe tbody tr th {\n",
       "        vertical-align: top;\n",
       "    }\n",
       "\n",
       "    .dataframe thead th {\n",
       "        text-align: right;\n",
       "    }\n",
       "</style>\n",
       "<table border=\"1\" class=\"dataframe\">\n",
       "  <thead>\n",
       "    <tr style=\"text-align: right;\">\n",
       "      <th></th>\n",
       "      <th>Month</th>\n",
       "      <th>Estimated_Departure_Time</th>\n",
       "      <th>Origin_Airport_ID</th>\n",
       "      <th>Destination_Airport_ID</th>\n",
       "      <th>Distance</th>\n",
       "      <th>Carrier_ID(DOT)</th>\n",
       "      <th>Flight_Time</th>\n",
       "      <th>Delay</th>\n",
       "    </tr>\n",
       "  </thead>\n",
       "  <tbody>\n",
       "    <tr>\n",
       "      <th>0</th>\n",
       "      <td>4</td>\n",
       "      <td>1545</td>\n",
       "      <td>11618</td>\n",
       "      <td>11278</td>\n",
       "      <td>199.0</td>\n",
       "      <td>20448.0</td>\n",
       "      <td>46.34375</td>\n",
       "      <td>0.0</td>\n",
       "    </tr>\n",
       "    <tr>\n",
       "      <th>1</th>\n",
       "      <td>1</td>\n",
       "      <td>1742</td>\n",
       "      <td>11618</td>\n",
       "      <td>10721</td>\n",
       "      <td>200.0</td>\n",
       "      <td>19984.0</td>\n",
       "      <td>81.00000</td>\n",
       "      <td>0.0</td>\n",
       "    </tr>\n",
       "    <tr>\n",
       "      <th>2</th>\n",
       "      <td>6</td>\n",
       "      <td>1420</td>\n",
       "      <td>10821</td>\n",
       "      <td>11057</td>\n",
       "      <td>361.0</td>\n",
       "      <td>19392.0</td>\n",
       "      <td>90.00000</td>\n",
       "      <td>0.0</td>\n",
       "    </tr>\n",
       "    <tr>\n",
       "      <th>3</th>\n",
       "      <td>8</td>\n",
       "      <td>1730</td>\n",
       "      <td>11278</td>\n",
       "      <td>14122</td>\n",
       "      <td>204.0</td>\n",
       "      <td>20448.0</td>\n",
       "      <td>74.00000</td>\n",
       "      <td>1.0</td>\n",
       "    </tr>\n",
       "    <tr>\n",
       "      <th>4</th>\n",
       "      <td>1</td>\n",
       "      <td>1015</td>\n",
       "      <td>11042</td>\n",
       "      <td>11292</td>\n",
       "      <td>1201.0</td>\n",
       "      <td>19392.0</td>\n",
       "      <td>90.00000</td>\n",
       "      <td>0.0</td>\n",
       "    </tr>\n",
       "    <tr>\n",
       "      <th>...</th>\n",
       "      <td>...</td>\n",
       "      <td>...</td>\n",
       "      <td>...</td>\n",
       "      <td>...</td>\n",
       "      <td>...</td>\n",
       "      <td>...</td>\n",
       "      <td>...</td>\n",
       "      <td>...</td>\n",
       "    </tr>\n",
       "    <tr>\n",
       "      <th>999995</th>\n",
       "      <td>9</td>\n",
       "      <td>936</td>\n",
       "      <td>13930</td>\n",
       "      <td>14100</td>\n",
       "      <td>678.0</td>\n",
       "      <td>19984.0</td>\n",
       "      <td>187.00000</td>\n",
       "      <td>0.0</td>\n",
       "    </tr>\n",
       "    <tr>\n",
       "      <th>999996</th>\n",
       "      <td>5</td>\n",
       "      <td>920</td>\n",
       "      <td>11637</td>\n",
       "      <td>13487</td>\n",
       "      <td>223.0</td>\n",
       "      <td>20304.0</td>\n",
       "      <td>68.00000</td>\n",
       "      <td>0.0</td>\n",
       "    </tr>\n",
       "    <tr>\n",
       "      <th>999997</th>\n",
       "      <td>6</td>\n",
       "      <td>800</td>\n",
       "      <td>13796</td>\n",
       "      <td>12191</td>\n",
       "      <td>1642.0</td>\n",
       "      <td>19392.0</td>\n",
       "      <td>340.00000</td>\n",
       "      <td>1.0</td>\n",
       "    </tr>\n",
       "    <tr>\n",
       "      <th>999998</th>\n",
       "      <td>9</td>\n",
       "      <td>1613</td>\n",
       "      <td>10693</td>\n",
       "      <td>10397</td>\n",
       "      <td>214.0</td>\n",
       "      <td>19792.0</td>\n",
       "      <td>131.00000</td>\n",
       "      <td>0.0</td>\n",
       "    </tr>\n",
       "    <tr>\n",
       "      <th>999999</th>\n",
       "      <td>3</td>\n",
       "      <td>1800</td>\n",
       "      <td>14635</td>\n",
       "      <td>11433</td>\n",
       "      <td>1084.0</td>\n",
       "      <td>19792.0</td>\n",
       "      <td>176.00000</td>\n",
       "      <td>0.0</td>\n",
       "    </tr>\n",
       "  </tbody>\n",
       "</table>\n",
       "<p>1000000 rows × 8 columns</p>\n",
       "</div>"
      ],
      "text/plain": [
       "        Month  Estimated_Departure_Time  Origin_Airport_ID  \\\n",
       "0           4                      1545              11618   \n",
       "1           1                      1742              11618   \n",
       "2           6                      1420              10821   \n",
       "3           8                      1730              11278   \n",
       "4           1                      1015              11042   \n",
       "...       ...                       ...                ...   \n",
       "999995      9                       936              13930   \n",
       "999996      5                       920              11637   \n",
       "999997      6                       800              13796   \n",
       "999998      9                      1613              10693   \n",
       "999999      3                      1800              14635   \n",
       "\n",
       "        Destination_Airport_ID  Distance  Carrier_ID(DOT)  Flight_Time  Delay  \n",
       "0                        11278     199.0          20448.0     46.34375    0.0  \n",
       "1                        10721     200.0          19984.0     81.00000    0.0  \n",
       "2                        11057     361.0          19392.0     90.00000    0.0  \n",
       "3                        14122     204.0          20448.0     74.00000    1.0  \n",
       "4                        11292    1201.0          19392.0     90.00000    0.0  \n",
       "...                        ...       ...              ...          ...    ...  \n",
       "999995                   14100     678.0          19984.0    187.00000    0.0  \n",
       "999996                   13487     223.0          20304.0     68.00000    0.0  \n",
       "999997                   12191    1642.0          19392.0    340.00000    1.0  \n",
       "999998                   10397     214.0          19792.0    131.00000    0.0  \n",
       "999999                   11433    1084.0          19792.0    176.00000    0.0  \n",
       "\n",
       "[1000000 rows x 8 columns]"
      ]
     },
     "execution_count": 76,
     "metadata": {},
     "output_type": "execute_result"
    }
   ],
   "source": [
    "merged_df"
   ]
  },
  {
   "cell_type": "code",
   "execution_count": 77,
   "id": "5ee1f079",
   "metadata": {},
   "outputs": [],
   "source": [
    "merged_df.to_csv(\"train.csv\", index=False)"
   ]
  }
 ],
 "metadata": {
  "kernelspec": {
   "display_name": "Python 3 (ipykernel)",
   "language": "python",
   "name": "python3"
  },
  "language_info": {
   "codemirror_mode": {
    "name": "ipython",
    "version": 3
   },
   "file_extension": ".py",
   "mimetype": "text/x-python",
   "name": "python",
   "nbconvert_exporter": "python",
   "pygments_lexer": "ipython3",
   "version": "3.9.13"
  }
 },
 "nbformat": 4,
 "nbformat_minor": 5
}
