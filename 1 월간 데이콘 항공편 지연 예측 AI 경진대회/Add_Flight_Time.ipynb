{
 "cells": [
  {
   "cell_type": "code",
   "execution_count": 2,
   "id": "1560c879",
   "metadata": {},
   "outputs": [],
   "source": [
    "import numpy as np\n",
    "import pandas as pd\n",
    "import matplotlib.pyplot as plt\n",
    "import seaborn as sns\n",
    "import math\n",
    "import re\n"
   ]
  },
  {
   "cell_type": "code",
   "execution_count": 3,
   "id": "caba16bf",
   "metadata": {},
   "outputs": [],
   "source": [
    "train = pd.read_csv(\"train.csv\")\n"
   ]
  },
  {
   "cell_type": "code",
   "execution_count": 4,
   "id": "13a02eb3",
   "metadata": {},
   "outputs": [],
   "source": [
    "test = pd.read_csv(\"test.csv\")\n",
    "submission = pd.read_csv(\"sample_submission.csv\")"
   ]
  },
  {
   "cell_type": "markdown",
   "id": "372f61bc",
   "metadata": {},
   "source": [
    "시작시간 없는건 최빈값으로 채우기\n",
    "\n",
    "두 컬럼 둘다 fillna(0) 해주기.\n",
    "\n",
    "분으로 바꿔서 총 운항시간(분) 확인하기\n",
    "\n",
    "distance랑 비교해서 값내고 1분에 몇마일 or 1마일에 몇분 컬럼 추가\n",
    "\n",
    "모든 컬럼값 더해서 평균내기\n",
    "\n",
    "평균낸걸로 distance 비교해서 채우기\n",
    "\n"
   ]
  },
  {
   "cell_type": "code",
   "execution_count": 5,
   "id": "1c6323c9",
   "metadata": {},
   "outputs": [
    {
     "name": "stdout",
     "output_type": "stream",
     "text": [
      "483\n"
     ]
    }
   ],
   "source": [
    "count = train['Estimated_Arrival_Time'].value_counts().get(600.0, 0)\n",
    "print(count)"
   ]
  },
  {
   "cell_type": "code",
   "execution_count": 6,
   "id": "9e097917",
   "metadata": {},
   "outputs": [
    {
     "name": "stdout",
     "output_type": "stream",
     "text": [
      "17423\n"
     ]
    }
   ],
   "source": [
    "count = train['Estimated_Departure_Time'].value_counts().get(600.0, 0)\n",
    "print(count)\n"
   ]
  },
  {
   "cell_type": "code",
   "execution_count": 7,
   "id": "70e1f75d",
   "metadata": {},
   "outputs": [],
   "source": [
    "for index, row in train.iterrows():\n",
    "    if pd.isnull(row['Estimated_Arrival_Time']) and pd.isnull(row['Estimated_Departure_Time']):\n",
    "        train.at[index, 'Estimated_Departure_Time'] = train['Estimated_Departure_Time'].mode().iloc[0]\n"
   ]
  },
  {
   "cell_type": "code",
   "execution_count": 11,
   "id": "783ecf28",
   "metadata": {},
   "outputs": [
    {
     "data": {
      "text/plain": [
       "0"
      ]
     },
     "execution_count": 11,
     "metadata": {},
     "output_type": "execute_result"
    }
   ],
   "source": [
    "train['Estimated_Departure_Time'].isnull().sum()"
   ]
  },
  {
   "cell_type": "code",
   "execution_count": 12,
   "id": "216bb35a",
   "metadata": {},
   "outputs": [
    {
     "data": {
      "text/plain": [
       "0"
      ]
     },
     "execution_count": 12,
     "metadata": {},
     "output_type": "execute_result"
    }
   ],
   "source": [
    "train['Estimated_Arrival_Time'].isnull().sum()"
   ]
  },
  {
   "cell_type": "code",
   "execution_count": 54,
   "id": "f703be73",
   "metadata": {},
   "outputs": [
    {
     "name": "stdout",
     "output_type": "stream",
     "text": [
      "0\n"
     ]
    }
   ],
   "source": [
    "null_mask = train[['Estimated_Departure_Time', 'Estimated_Arrival_Time']].isnull().all(axis=1)\n",
    "null_rows = train[null_mask]\n",
    "\n",
    "print(f\"{len(null_rows)}\")\n"
   ]
  },
  {
   "cell_type": "code",
   "execution_count": 10,
   "id": "8ad7b025",
   "metadata": {},
   "outputs": [],
   "source": [
    "train['Estimated_Departure_Time'] = train['Estimated_Departure_Time'].fillna(0)\n",
    "train['Estimated_Departure_Time'] = train['Estimated_Departure_Time'].astype(int)\n",
    "\n",
    "train['Estimated_Arrival_Time'] = train['Estimated_Arrival_Time'].fillna(0)\n",
    "train['Estimated_Arrival_Time'] = train['Estimated_Arrival_Time'].astype(int)"
   ]
  },
  {
   "cell_type": "code",
   "execution_count": null,
   "id": "c2e9d7d4",
   "metadata": {},
   "outputs": [],
   "source": []
  },
  {
   "cell_type": "code",
   "execution_count": 19,
   "id": "244fc5ce",
   "metadata": {},
   "outputs": [],
   "source": [
    "def convert_to_time(minutes):\n",
    "    hours = minutes // 60\n",
    "    minutes = minutes % 60\n",
    "    return f\"{hours:02d}{minutes:02d}\""
   ]
  },
  {
   "cell_type": "code",
   "execution_count": null,
   "id": "bd833c03",
   "metadata": {},
   "outputs": [],
   "source": [
    "def convert_to_minutes(time):    \n",
    "    return int(time // 100) * 60 + int(time % 100)"
   ]
  },
  {
   "cell_type": "code",
   "execution_count": 37,
   "id": "ad009d12",
   "metadata": {},
   "outputs": [],
   "source": [
    "train['Flight_Time'] = None\n",
    "train['Estimated_Departure_Minutes'] = None\n",
    "train['Estimated_Arrival_Minutes'] = None\n",
    "\n",
    "for index, row in train.iterrows():\n",
    "    dep_time = row['Estimated_Departure_Time']\n",
    "    arr_time = row['Estimated_Arrival_Time']\n",
    "    \n",
    "    if arr_time == 0 and dep_time == 0:\n",
    "        continue\n",
    "        \n",
    "    elif dep_time == 0:\n",
    "        arr_time_in_minutes = convert_to_minutes(arr_time)\n",
    "        train.at[index, 'Estimated_Arrival_Minutes'] = arr_time_in_minutes\n",
    "        \n",
    "    elif arr_time == 0:\n",
    "        dep_time_in_minutes = convert_to_minutes(dep_time)\n",
    "        train.at[index, 'Estimated_Departure_Minutes'] = dep_time_in_minutes\n",
    "        \n",
    "    else:\n",
    "        dep_time_in_minutes = convert_to_minutes(dep_time)\n",
    "        arr_time_in_minutes = convert_to_minutes(arr_time)\n",
    "        \n",
    "        if arr_time_in_minutes < dep_time_in_minutes:\n",
    "            arr_time_in_minutes += 1440\n",
    "        \n",
    "        duration_in_minutes = arr_time_in_minutes - dep_time_in_minutes\n",
    "        train.at[index, 'Flight_Time'] = duration_in_minutes\n",
    "        train.at[index, 'Estimated_Arrival_Minutes'] = arr_time_in_minutes\n",
    "        train.at[index, 'Estimated_Departure_Minutes'] = dep_time_in_minutes\n"
   ]
  },
  {
   "cell_type": "code",
   "execution_count": 73,
   "id": "e1e1951c",
   "metadata": {},
   "outputs": [
    {
     "data": {
      "text/html": [
       "<div>\n",
       "<style scoped>\n",
       "    .dataframe tbody tr th:only-of-type {\n",
       "        vertical-align: middle;\n",
       "    }\n",
       "\n",
       "    .dataframe tbody tr th {\n",
       "        vertical-align: top;\n",
       "    }\n",
       "\n",
       "    .dataframe thead th {\n",
       "        text-align: right;\n",
       "    }\n",
       "</style>\n",
       "<table border=\"1\" class=\"dataframe\">\n",
       "  <thead>\n",
       "    <tr style=\"text-align: right;\">\n",
       "      <th></th>\n",
       "      <th>ID</th>\n",
       "      <th>Month</th>\n",
       "      <th>Day_of_Month</th>\n",
       "      <th>Estimated_Departure_Time</th>\n",
       "      <th>Estimated_Arrival_Time</th>\n",
       "      <th>Cancelled</th>\n",
       "      <th>Diverted</th>\n",
       "      <th>Origin_Airport</th>\n",
       "      <th>Origin_Airport_ID</th>\n",
       "      <th>Origin_State</th>\n",
       "      <th>...</th>\n",
       "      <th>Distance</th>\n",
       "      <th>Airline</th>\n",
       "      <th>Carrier_Code(IATA)</th>\n",
       "      <th>Carrier_ID(DOT)</th>\n",
       "      <th>Tail_Number</th>\n",
       "      <th>Delay</th>\n",
       "      <th>Flight_Time</th>\n",
       "      <th>Estimated_Departure_Minutes</th>\n",
       "      <th>Estimated_Arrival_Minutes</th>\n",
       "      <th>Flight_Time_per_Distance</th>\n",
       "    </tr>\n",
       "  </thead>\n",
       "  <tbody>\n",
       "    <tr>\n",
       "      <th>0</th>\n",
       "      <td>TRAIN_000000</td>\n",
       "      <td>4</td>\n",
       "      <td>15</td>\n",
       "      <td>600</td>\n",
       "      <td>0</td>\n",
       "      <td>0</td>\n",
       "      <td>0</td>\n",
       "      <td>OKC</td>\n",
       "      <td>13851</td>\n",
       "      <td>Oklahoma</td>\n",
       "      <td>...</td>\n",
       "      <td>419.0</td>\n",
       "      <td>Southwest Airlines Co.</td>\n",
       "      <td>WN</td>\n",
       "      <td>19393.0</td>\n",
       "      <td>N7858A</td>\n",
       "      <td>NaN</td>\n",
       "      <td>97.601139</td>\n",
       "      <td>360</td>\n",
       "      <td>None</td>\n",
       "      <td>NaN</td>\n",
       "    </tr>\n",
       "    <tr>\n",
       "      <th>1</th>\n",
       "      <td>TRAIN_000001</td>\n",
       "      <td>8</td>\n",
       "      <td>15</td>\n",
       "      <td>740</td>\n",
       "      <td>1024</td>\n",
       "      <td>0</td>\n",
       "      <td>0</td>\n",
       "      <td>ORD</td>\n",
       "      <td>13930</td>\n",
       "      <td>Illinois</td>\n",
       "      <td>...</td>\n",
       "      <td>1250.0</td>\n",
       "      <td>SkyWest Airlines Inc.</td>\n",
       "      <td>UA</td>\n",
       "      <td>20304.0</td>\n",
       "      <td>N125SY</td>\n",
       "      <td>NaN</td>\n",
       "      <td>164</td>\n",
       "      <td>460</td>\n",
       "      <td>624</td>\n",
       "      <td>0.131200</td>\n",
       "    </tr>\n",
       "    <tr>\n",
       "      <th>2</th>\n",
       "      <td>TRAIN_000002</td>\n",
       "      <td>9</td>\n",
       "      <td>6</td>\n",
       "      <td>1610</td>\n",
       "      <td>1805</td>\n",
       "      <td>0</td>\n",
       "      <td>0</td>\n",
       "      <td>CLT</td>\n",
       "      <td>11057</td>\n",
       "      <td>North Carolina</td>\n",
       "      <td>...</td>\n",
       "      <td>544.0</td>\n",
       "      <td>American Airlines Inc.</td>\n",
       "      <td>AA</td>\n",
       "      <td>19805.0</td>\n",
       "      <td>N103US</td>\n",
       "      <td>NaN</td>\n",
       "      <td>115</td>\n",
       "      <td>970</td>\n",
       "      <td>1085</td>\n",
       "      <td>0.211397</td>\n",
       "    </tr>\n",
       "    <tr>\n",
       "      <th>3</th>\n",
       "      <td>TRAIN_000003</td>\n",
       "      <td>7</td>\n",
       "      <td>10</td>\n",
       "      <td>905</td>\n",
       "      <td>1735</td>\n",
       "      <td>0</td>\n",
       "      <td>0</td>\n",
       "      <td>LAX</td>\n",
       "      <td>12892</td>\n",
       "      <td>California</td>\n",
       "      <td>...</td>\n",
       "      <td>2454.0</td>\n",
       "      <td>United Air Lines Inc.</td>\n",
       "      <td>UA</td>\n",
       "      <td>NaN</td>\n",
       "      <td>N595UA</td>\n",
       "      <td>NaN</td>\n",
       "      <td>510</td>\n",
       "      <td>545</td>\n",
       "      <td>1055</td>\n",
       "      <td>0.207824</td>\n",
       "    </tr>\n",
       "    <tr>\n",
       "      <th>4</th>\n",
       "      <td>TRAIN_000004</td>\n",
       "      <td>1</td>\n",
       "      <td>11</td>\n",
       "      <td>900</td>\n",
       "      <td>1019</td>\n",
       "      <td>0</td>\n",
       "      <td>0</td>\n",
       "      <td>SFO</td>\n",
       "      <td>14771</td>\n",
       "      <td>California</td>\n",
       "      <td>...</td>\n",
       "      <td>250.0</td>\n",
       "      <td>SkyWest Airlines Inc.</td>\n",
       "      <td>UA</td>\n",
       "      <td>20304.0</td>\n",
       "      <td>N161SY</td>\n",
       "      <td>NaN</td>\n",
       "      <td>79</td>\n",
       "      <td>540</td>\n",
       "      <td>619</td>\n",
       "      <td>0.316000</td>\n",
       "    </tr>\n",
       "    <tr>\n",
       "      <th>...</th>\n",
       "      <td>...</td>\n",
       "      <td>...</td>\n",
       "      <td>...</td>\n",
       "      <td>...</td>\n",
       "      <td>...</td>\n",
       "      <td>...</td>\n",
       "      <td>...</td>\n",
       "      <td>...</td>\n",
       "      <td>...</td>\n",
       "      <td>...</td>\n",
       "      <td>...</td>\n",
       "      <td>...</td>\n",
       "      <td>...</td>\n",
       "      <td>...</td>\n",
       "      <td>...</td>\n",
       "      <td>...</td>\n",
       "      <td>...</td>\n",
       "      <td>...</td>\n",
       "      <td>...</td>\n",
       "      <td>...</td>\n",
       "      <td>...</td>\n",
       "    </tr>\n",
       "    <tr>\n",
       "      <th>999995</th>\n",
       "      <td>TRAIN_999995</td>\n",
       "      <td>9</td>\n",
       "      <td>18</td>\n",
       "      <td>936</td>\n",
       "      <td>1243</td>\n",
       "      <td>0</td>\n",
       "      <td>0</td>\n",
       "      <td>ORD</td>\n",
       "      <td>13930</td>\n",
       "      <td>NaN</td>\n",
       "      <td>...</td>\n",
       "      <td>678.0</td>\n",
       "      <td>United Air Lines Inc.</td>\n",
       "      <td>UA</td>\n",
       "      <td>19977.0</td>\n",
       "      <td>N477UA</td>\n",
       "      <td>NaN</td>\n",
       "      <td>187</td>\n",
       "      <td>576</td>\n",
       "      <td>763</td>\n",
       "      <td>0.275811</td>\n",
       "    </tr>\n",
       "    <tr>\n",
       "      <th>999996</th>\n",
       "      <td>TRAIN_999996</td>\n",
       "      <td>5</td>\n",
       "      <td>30</td>\n",
       "      <td>920</td>\n",
       "      <td>1028</td>\n",
       "      <td>0</td>\n",
       "      <td>0</td>\n",
       "      <td>FAR</td>\n",
       "      <td>11637</td>\n",
       "      <td>NaN</td>\n",
       "      <td>...</td>\n",
       "      <td>223.0</td>\n",
       "      <td>SkyWest Airlines Inc.</td>\n",
       "      <td>DL</td>\n",
       "      <td>NaN</td>\n",
       "      <td>N439SW</td>\n",
       "      <td>NaN</td>\n",
       "      <td>68</td>\n",
       "      <td>560</td>\n",
       "      <td>628</td>\n",
       "      <td>0.304933</td>\n",
       "    </tr>\n",
       "    <tr>\n",
       "      <th>999997</th>\n",
       "      <td>TRAIN_999997</td>\n",
       "      <td>6</td>\n",
       "      <td>28</td>\n",
       "      <td>800</td>\n",
       "      <td>1340</td>\n",
       "      <td>0</td>\n",
       "      <td>0</td>\n",
       "      <td>OAK</td>\n",
       "      <td>13796</td>\n",
       "      <td>NaN</td>\n",
       "      <td>...</td>\n",
       "      <td>1642.0</td>\n",
       "      <td>Southwest Airlines Co.</td>\n",
       "      <td>WN</td>\n",
       "      <td>19393.0</td>\n",
       "      <td>N230WN</td>\n",
       "      <td>NaN</td>\n",
       "      <td>340</td>\n",
       "      <td>480</td>\n",
       "      <td>820</td>\n",
       "      <td>0.207065</td>\n",
       "    </tr>\n",
       "    <tr>\n",
       "      <th>999998</th>\n",
       "      <td>TRAIN_999998</td>\n",
       "      <td>9</td>\n",
       "      <td>27</td>\n",
       "      <td>1613</td>\n",
       "      <td>1824</td>\n",
       "      <td>0</td>\n",
       "      <td>0</td>\n",
       "      <td>BNA</td>\n",
       "      <td>10693</td>\n",
       "      <td>Tennessee</td>\n",
       "      <td>...</td>\n",
       "      <td>214.0</td>\n",
       "      <td>Delta Air Lines Inc.</td>\n",
       "      <td>DL</td>\n",
       "      <td>19790.0</td>\n",
       "      <td>N968DL</td>\n",
       "      <td>NaN</td>\n",
       "      <td>131</td>\n",
       "      <td>973</td>\n",
       "      <td>1104</td>\n",
       "      <td>0.612150</td>\n",
       "    </tr>\n",
       "    <tr>\n",
       "      <th>999999</th>\n",
       "      <td>TRAIN_999999</td>\n",
       "      <td>3</td>\n",
       "      <td>26</td>\n",
       "      <td>1800</td>\n",
       "      <td>2056</td>\n",
       "      <td>0</td>\n",
       "      <td>0</td>\n",
       "      <td>RSW</td>\n",
       "      <td>14635</td>\n",
       "      <td>Florida</td>\n",
       "      <td>...</td>\n",
       "      <td>1084.0</td>\n",
       "      <td>NaN</td>\n",
       "      <td>DL</td>\n",
       "      <td>19790.0</td>\n",
       "      <td>N695DL</td>\n",
       "      <td>NaN</td>\n",
       "      <td>176</td>\n",
       "      <td>1080</td>\n",
       "      <td>1256</td>\n",
       "      <td>0.162362</td>\n",
       "    </tr>\n",
       "  </tbody>\n",
       "</table>\n",
       "<p>1000000 rows × 23 columns</p>\n",
       "</div>"
      ],
      "text/plain": [
       "                  ID  Month  Day_of_Month  Estimated_Departure_Time  \\\n",
       "0       TRAIN_000000      4            15                       600   \n",
       "1       TRAIN_000001      8            15                       740   \n",
       "2       TRAIN_000002      9             6                      1610   \n",
       "3       TRAIN_000003      7            10                       905   \n",
       "4       TRAIN_000004      1            11                       900   \n",
       "...              ...    ...           ...                       ...   \n",
       "999995  TRAIN_999995      9            18                       936   \n",
       "999996  TRAIN_999996      5            30                       920   \n",
       "999997  TRAIN_999997      6            28                       800   \n",
       "999998  TRAIN_999998      9            27                      1613   \n",
       "999999  TRAIN_999999      3            26                      1800   \n",
       "\n",
       "        Estimated_Arrival_Time  Cancelled  Diverted Origin_Airport  \\\n",
       "0                            0          0         0            OKC   \n",
       "1                         1024          0         0            ORD   \n",
       "2                         1805          0         0            CLT   \n",
       "3                         1735          0         0            LAX   \n",
       "4                         1019          0         0            SFO   \n",
       "...                        ...        ...       ...            ...   \n",
       "999995                    1243          0         0            ORD   \n",
       "999996                    1028          0         0            FAR   \n",
       "999997                    1340          0         0            OAK   \n",
       "999998                    1824          0         0            BNA   \n",
       "999999                    2056          0         0            RSW   \n",
       "\n",
       "        Origin_Airport_ID    Origin_State  ... Distance  \\\n",
       "0                   13851        Oklahoma  ...    419.0   \n",
       "1                   13930        Illinois  ...   1250.0   \n",
       "2                   11057  North Carolina  ...    544.0   \n",
       "3                   12892      California  ...   2454.0   \n",
       "4                   14771      California  ...    250.0   \n",
       "...                   ...             ...  ...      ...   \n",
       "999995              13930             NaN  ...    678.0   \n",
       "999996              11637             NaN  ...    223.0   \n",
       "999997              13796             NaN  ...   1642.0   \n",
       "999998              10693       Tennessee  ...    214.0   \n",
       "999999              14635         Florida  ...   1084.0   \n",
       "\n",
       "                       Airline Carrier_Code(IATA)  Carrier_ID(DOT)  \\\n",
       "0       Southwest Airlines Co.                 WN          19393.0   \n",
       "1        SkyWest Airlines Inc.                 UA          20304.0   \n",
       "2       American Airlines Inc.                 AA          19805.0   \n",
       "3        United Air Lines Inc.                 UA              NaN   \n",
       "4        SkyWest Airlines Inc.                 UA          20304.0   \n",
       "...                        ...                ...              ...   \n",
       "999995   United Air Lines Inc.                 UA          19977.0   \n",
       "999996   SkyWest Airlines Inc.                 DL              NaN   \n",
       "999997  Southwest Airlines Co.                 WN          19393.0   \n",
       "999998    Delta Air Lines Inc.                 DL          19790.0   \n",
       "999999                     NaN                 DL          19790.0   \n",
       "\n",
       "       Tail_Number Delay  Flight_Time Estimated_Departure_Minutes  \\\n",
       "0           N7858A   NaN    97.601139                         360   \n",
       "1           N125SY   NaN          164                         460   \n",
       "2           N103US   NaN          115                         970   \n",
       "3           N595UA   NaN          510                         545   \n",
       "4           N161SY   NaN           79                         540   \n",
       "...            ...   ...          ...                         ...   \n",
       "999995      N477UA   NaN          187                         576   \n",
       "999996      N439SW   NaN           68                         560   \n",
       "999997      N230WN   NaN          340                         480   \n",
       "999998      N968DL   NaN          131                         973   \n",
       "999999      N695DL   NaN          176                        1080   \n",
       "\n",
       "       Estimated_Arrival_Minutes Flight_Time_per_Distance  \n",
       "0                           None                      NaN  \n",
       "1                            624                 0.131200  \n",
       "2                           1085                 0.211397  \n",
       "3                           1055                 0.207824  \n",
       "4                            619                 0.316000  \n",
       "...                          ...                      ...  \n",
       "999995                       763                 0.275811  \n",
       "999996                       628                 0.304933  \n",
       "999997                       820                 0.207065  \n",
       "999998                      1104                 0.612150  \n",
       "999999                      1256                 0.162362  \n",
       "\n",
       "[1000000 rows x 23 columns]"
      ]
     },
     "execution_count": 73,
     "metadata": {},
     "output_type": "execute_result"
    }
   ],
   "source": [
    "train"
   ]
  },
  {
   "cell_type": "code",
   "execution_count": 41,
   "id": "1988a334",
   "metadata": {},
   "outputs": [],
   "source": [
    "for index, row in train.iterrows():\n",
    "    if pd.isnull(row['Flight_Time']):\n",
    "        train.at[index, 'Flight_Time_per_Distance'] = None\n",
    "    else:\n",
    "        flight_time_per_distance = row['Flight_Time'] / row['Distance']\n",
    "        train.at[index, 'Flight_Time_per_Distance'] = flight_time_per_distance"
   ]
  },
  {
   "cell_type": "code",
   "execution_count": null,
   "id": "c94dfb29",
   "metadata": {},
   "outputs": [],
   "source": []
  },
  {
   "cell_type": "code",
   "execution_count": 42,
   "id": "ebc89ebe",
   "metadata": {},
   "outputs": [],
   "source": [
    "avg_list = []\n",
    "for index, row in train.iterrows():\n",
    "    if pd.isnull(row['Flight_Time_per_Distance']):\n",
    "        pass\n",
    "    else:\n",
    "        avg_list.append(row['Flight_Time_per_Distance'])\n",
    " "
   ]
  },
  {
   "cell_type": "code",
   "execution_count": 49,
   "id": "02c40c64",
   "metadata": {},
   "outputs": [
    {
     "name": "stdout",
     "output_type": "stream",
     "text": [
      "184866.57368187737 793629\n"
     ]
    }
   ],
   "source": [
    "print(sum(avg_list), len(avg_list))"
   ]
  },
  {
   "cell_type": "code",
   "execution_count": 51,
   "id": "e57d26b7",
   "metadata": {},
   "outputs": [
    {
     "data": {
      "text/plain": [
       "0.23293827932431574"
      ]
     },
     "execution_count": 51,
     "metadata": {},
     "output_type": "execute_result"
    }
   ],
   "source": [
    "velocity_avg = sum(avg_list) / len(avg_list)\n",
    "velocity_avg"
   ]
  },
  {
   "cell_type": "code",
   "execution_count": 53,
   "id": "8a1aaaae",
   "metadata": {},
   "outputs": [],
   "source": [
    "t_f = []\n",
    "for i in avg_list:\n",
    "    if i > velocity_avg:\n",
    "        t_f.append('big')\n",
    "    else:\n",
    "        t_f.append('small')"
   ]
  },
  {
   "cell_type": "code",
   "execution_count": 56,
   "id": "855d4a7a",
   "metadata": {},
   "outputs": [
    {
     "name": "stdout",
     "output_type": "stream",
     "text": [
      "500573 293056\n"
     ]
    }
   ],
   "source": [
    "print(t_f.count('small'), t_f.count('big'))"
   ]
  },
  {
   "cell_type": "code",
   "execution_count": 68,
   "id": "2a33acb0",
   "metadata": {},
   "outputs": [],
   "source": [
    "for index, row in train.iterrows():\n",
    "    if row['Flight_Time'] is None:\n",
    "        train.at[index, 'Flight_Time'] = row['Distance'] * velocity_avg\n",
    "    else:\n",
    "        pass"
   ]
  },
  {
   "cell_type": "code",
   "execution_count": 74,
   "id": "f8a166fd",
   "metadata": {
    "scrolled": true
   },
   "outputs": [
    {
     "data": {
      "text/plain": [
       "0"
      ]
     },
     "execution_count": 74,
     "metadata": {},
     "output_type": "execute_result"
    }
   ],
   "source": [
    "train['Flight_Time'].isnull().sum()"
   ]
  },
  {
   "cell_type": "code",
   "execution_count": null,
   "id": "d3d9e024",
   "metadata": {},
   "outputs": [],
   "source": []
  },
  {
   "cell_type": "code",
   "execution_count": null,
   "id": "27a07320",
   "metadata": {},
   "outputs": [],
   "source": []
  }
 ],
 "metadata": {
  "kernelspec": {
   "display_name": "Python 3 (ipykernel)",
   "language": "python",
   "name": "python3"
  },
  "language_info": {
   "codemirror_mode": {
    "name": "ipython",
    "version": 3
   },
   "file_extension": ".py",
   "mimetype": "text/x-python",
   "name": "python",
   "nbconvert_exporter": "python",
   "pygments_lexer": "ipython3",
   "version": "3.10.9"
  }
 },
 "nbformat": 4,
 "nbformat_minor": 5
}
