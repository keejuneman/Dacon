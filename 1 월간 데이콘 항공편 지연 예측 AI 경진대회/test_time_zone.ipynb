{
 "cells": [
  {
   "cell_type": "code",
   "execution_count": 44,
   "id": "e4f0d9d0",
   "metadata": {},
   "outputs": [],
   "source": [
    "import numpy as np\n",
    "import pandas as pd\n",
    "import matplotlib.pyplot as plt\n",
    "import seaborn as sns\n",
    "import math\n",
    "import re\n",
    "import requests as req\n",
    "from bs4 import BeautifulSoup as BS\n"
   ]
  },
  {
   "cell_type": "code",
   "execution_count": 3,
   "id": "25b69210",
   "metadata": {},
   "outputs": [],
   "source": [
    "test_dot = pd.read_csv(\"test_dot.csv\")"
   ]
  },
  {
   "cell_type": "code",
   "execution_count": 34,
   "id": "1b975d54",
   "metadata": {},
   "outputs": [],
   "source": [
    "origin = test_dot[[\"Origin_Airport_ID\", \"Origin_State\"]]\n",
    "origin = origin.dropna()\n",
    "origin_dict = dict(origin.drop_duplicates().values)"
   ]
  },
  {
   "cell_type": "code",
   "execution_count": 35,
   "id": "78cd13db",
   "metadata": {},
   "outputs": [],
   "source": [
    "origin_2 = test_dot[[\"Destination_Airport_ID\", \"Destination_State\"]]\n",
    "origin_2 = origin_2.dropna()\n",
    "origin_dict_2 = dict(origin_2.drop_duplicates().values)"
   ]
  },
  {
   "cell_type": "code",
   "execution_count": 36,
   "id": "ed667487",
   "metadata": {},
   "outputs": [],
   "source": [
    "origin_dict[14534] = 'Wyoming'\n",
    "origin_dict[14812] = 'Wyoming'\n",
    "origin_dict[11283] = 'Kansas'\n",
    "origin_dict[11288] = 'Illinois'\n",
    "\n",
    "origin_dict_2[14534] = 'Wyoming'\n",
    "origin_dict_2[14812] = 'Wyoming'\n",
    "origin_dict_2[11283] = 'Kansas'\n",
    "origin_dict_2[11288] = 'Illinois'\n"
   ]
  },
  {
   "cell_type": "code",
   "execution_count": 37,
   "id": "0e4d7eac",
   "metadata": {},
   "outputs": [],
   "source": [
    "for index, row in test_dot.iterrows():\n",
    "    if pd.isna(row[\"Origin_State\"]):\n",
    "        test_dot.at[index, \"Origin_State\"] = origin_dict.get(row[\"Origin_Airport_ID\"], None)"
   ]
  },
  {
   "cell_type": "code",
   "execution_count": 38,
   "id": "b046dacf",
   "metadata": {},
   "outputs": [],
   "source": [
    "for index, row in test_dot.iterrows():\n",
    "    if pd.isna(row[\"Destination_State\"]):\n",
    "        test_dot.at[index, \"Destination_State\"] = origin_dict.get(row[\"Destination_Airport_ID\"], None)"
   ]
  },
  {
   "cell_type": "code",
   "execution_count": 39,
   "id": "8cb4ac26",
   "metadata": {},
   "outputs": [
    {
     "data": {
      "text/html": [
       "<div>\n",
       "<style scoped>\n",
       "    .dataframe tbody tr th:only-of-type {\n",
       "        vertical-align: middle;\n",
       "    }\n",
       "\n",
       "    .dataframe tbody tr th {\n",
       "        vertical-align: top;\n",
       "    }\n",
       "\n",
       "    .dataframe thead th {\n",
       "        text-align: right;\n",
       "    }\n",
       "</style>\n",
       "<table border=\"1\" class=\"dataframe\">\n",
       "  <thead>\n",
       "    <tr style=\"text-align: right;\">\n",
       "      <th></th>\n",
       "      <th>ID</th>\n",
       "      <th>Month</th>\n",
       "      <th>Day_of_Month</th>\n",
       "      <th>Estimated_Departure_Time</th>\n",
       "      <th>Estimated_Arrival_Time</th>\n",
       "      <th>Cancelled</th>\n",
       "      <th>Diverted</th>\n",
       "      <th>Origin_Airport</th>\n",
       "      <th>Origin_Airport_ID</th>\n",
       "      <th>Origin_State</th>\n",
       "      <th>Destination_Airport</th>\n",
       "      <th>Destination_Airport_ID</th>\n",
       "      <th>Destination_State</th>\n",
       "      <th>Distance</th>\n",
       "      <th>Airline</th>\n",
       "      <th>Carrier_Code(IATA)</th>\n",
       "      <th>Carrier_ID(DOT)</th>\n",
       "      <th>Tail_Number</th>\n",
       "      <th>tail_alpha</th>\n",
       "    </tr>\n",
       "  </thead>\n",
       "  <tbody>\n",
       "  </tbody>\n",
       "</table>\n",
       "</div>"
      ],
      "text/plain": [
       "Empty DataFrame\n",
       "Columns: [ID, Month, Day_of_Month, Estimated_Departure_Time, Estimated_Arrival_Time, Cancelled, Diverted, Origin_Airport, Origin_Airport_ID, Origin_State, Destination_Airport, Destination_Airport_ID, Destination_State, Distance, Airline, Carrier_Code(IATA), Carrier_ID(DOT), Tail_Number, tail_alpha]\n",
       "Index: []"
      ]
     },
     "execution_count": 39,
     "metadata": {},
     "output_type": "execute_result"
    }
   ],
   "source": [
    "test_dot[test_dot['Origin_State'].isnull()]"
   ]
  },
  {
   "cell_type": "code",
   "execution_count": 40,
   "id": "6d0b4aac",
   "metadata": {},
   "outputs": [
    {
     "data": {
      "text/html": [
       "<div>\n",
       "<style scoped>\n",
       "    .dataframe tbody tr th:only-of-type {\n",
       "        vertical-align: middle;\n",
       "    }\n",
       "\n",
       "    .dataframe tbody tr th {\n",
       "        vertical-align: top;\n",
       "    }\n",
       "\n",
       "    .dataframe thead th {\n",
       "        text-align: right;\n",
       "    }\n",
       "</style>\n",
       "<table border=\"1\" class=\"dataframe\">\n",
       "  <thead>\n",
       "    <tr style=\"text-align: right;\">\n",
       "      <th></th>\n",
       "      <th>ID</th>\n",
       "      <th>Month</th>\n",
       "      <th>Day_of_Month</th>\n",
       "      <th>Estimated_Departure_Time</th>\n",
       "      <th>Estimated_Arrival_Time</th>\n",
       "      <th>Cancelled</th>\n",
       "      <th>Diverted</th>\n",
       "      <th>Origin_Airport</th>\n",
       "      <th>Origin_Airport_ID</th>\n",
       "      <th>Origin_State</th>\n",
       "      <th>Destination_Airport</th>\n",
       "      <th>Destination_Airport_ID</th>\n",
       "      <th>Destination_State</th>\n",
       "      <th>Distance</th>\n",
       "      <th>Airline</th>\n",
       "      <th>Carrier_Code(IATA)</th>\n",
       "      <th>Carrier_ID(DOT)</th>\n",
       "      <th>Tail_Number</th>\n",
       "      <th>tail_alpha</th>\n",
       "    </tr>\n",
       "  </thead>\n",
       "  <tbody>\n",
       "  </tbody>\n",
       "</table>\n",
       "</div>"
      ],
      "text/plain": [
       "Empty DataFrame\n",
       "Columns: [ID, Month, Day_of_Month, Estimated_Departure_Time, Estimated_Arrival_Time, Cancelled, Diverted, Origin_Airport, Origin_Airport_ID, Origin_State, Destination_Airport, Destination_Airport_ID, Destination_State, Distance, Airline, Carrier_Code(IATA), Carrier_ID(DOT), Tail_Number, tail_alpha]\n",
       "Index: []"
      ]
     },
     "execution_count": 40,
     "metadata": {},
     "output_type": "execute_result"
    }
   ],
   "source": [
    "test_dot[test_dot['Destination_State'].isnull()]"
   ]
  },
  {
   "cell_type": "code",
   "execution_count": null,
   "id": "4d8709b1",
   "metadata": {},
   "outputs": [],
   "source": []
  },
  {
   "cell_type": "code",
   "execution_count": 41,
   "id": "c319cfee",
   "metadata": {
    "scrolled": true
   },
   "outputs": [],
   "source": [
    "states = list(test_dot['Origin_State'].unique())"
   ]
  },
  {
   "cell_type": "code",
   "execution_count": 45,
   "id": "b8f05af5",
   "metadata": {
    "scrolled": false
   },
   "outputs": [
    {
     "name": "stdout",
     "output_type": "stream",
     "text": [
      "{'Texas': 'UTC/GMT -6시간', 'New Jersey': 'UTC/GMT -5시간', 'Illinois': 'UTC/GMT -6시간', 'California': 'UTC/GMT -8시간', 'Florida': 'UTC/GMT -5시간', 'Virginia': 'UTC/GMT -5시간', 'Tennessee': 'UTC/GMT -6시간', 'Missouri': 'UTC/GMT -6시간', 'Arizona': 'UTC/GMT -7시간', 'Colorado': 'UTC/GMT -7시간', 'Nevada': 'UTC/GMT -8시간', 'Ohio': 'UTC/GMT -5시간', 'Kentucky': 'UTC/GMT -5시간', 'Michigan': 'UTC/GMT -5시간', 'Georgia': 'UTC/GMT -5시간', 'Alaska': 'UTC/GMT -9시간', 'Washington': 'UTC/GMT -8시간', 'Hawaii': 'UTC/GMT -10시간', 'Pennsylvania': 'UTC/GMT -5시간', 'North Carolina': 'UTC/GMT -5시간', 'Maryland': 'UTC/GMT -5시간', 'Arkansas': 'UTC/GMT -6시간', 'Nebraska': 'UTC/GMT -6시간', 'New York': 'UTC/GMT -5시간', 'Rhode Island': 'UTC/GMT -5시간', 'Minnesota': 'UTC/GMT -6시간', 'Vermont': 'UTC/GMT -5시간', 'Louisiana': 'UTC/GMT -6시간', 'Massachusetts': 'UTC/GMT -5시간', 'South Carolina': 'UTC/GMT -5시간', 'Montana': 'UTC/GMT -7시간', 'New Hampshire': 'UTC/GMT -5시간', 'Alabama': 'UTC/GMT -6시간', 'Oklahoma': 'UTC/GMT -6시간', 'Puerto Rico': '', 'Idaho': 'UTC/GMT -7시간', 'Indiana': 'UTC/GMT -5시간', 'Connecticut': 'UTC/GMT -5시간', 'Wisconsin': 'UTC/GMT -6시간', 'Utah': 'UTC/GMT -7시간', 'Oregon': 'UTC/GMT -8시간', 'New Mexico': 'UTC/GMT -7시간', 'Maine': 'UTC/GMT -5시간', 'Iowa': 'UTC/GMT -6시간', 'South Dakota': 'UTC/GMT -6시간', 'North Dakota': 'UTC/GMT -6시간', 'West Virginia': 'UTC/GMT -5시간', 'Wyoming': 'UTC/GMT -7시간', 'U.S. Virgin Islands': '', 'Kansas': 'UTC/GMT -6시간', 'Mississippi': 'UTC/GMT -6시간', 'U.S. Pacific Trust Territories and Possessions': ''}\n"
     ]
    }
   ],
   "source": [
    "states = list(test_dot['Origin_State'].unique())\n",
    "states_dict = {}\n",
    "\n",
    "for state in states:\n",
    "    url = f'https://ko.thetimenow.com/united_states/{state}'\n",
    "    res = req.get(url)\n",
    "    soup = BS(res.text, \"html.parser\")\n",
    "    time_tags = soup.select('body > div.fixed-wraper > section:nth-child(2) > div > article.half-block.clearrm > div > section > div:nth-child(2) > div:nth-child(1)')\n",
    "    offset = ''\n",
    "    for tag in time_tags:\n",
    "        offset += tag.text.strip()\n",
    "    states_dict[state] = offset\n",
    "\n",
    "print(states_dict)"
   ]
  },
  {
   "cell_type": "code",
   "execution_count": 46,
   "id": "a436abfb",
   "metadata": {
    "scrolled": true
   },
   "outputs": [
    {
     "data": {
      "text/plain": [
       "{'Texas': 'UTC/GMT -6시간',\n",
       " 'New Jersey': 'UTC/GMT -5시간',\n",
       " 'Illinois': 'UTC/GMT -6시간',\n",
       " 'California': 'UTC/GMT -8시간',\n",
       " 'Florida': 'UTC/GMT -5시간',\n",
       " 'Virginia': 'UTC/GMT -5시간',\n",
       " 'Tennessee': 'UTC/GMT -6시간',\n",
       " 'Missouri': 'UTC/GMT -6시간',\n",
       " 'Arizona': 'UTC/GMT -7시간',\n",
       " 'Colorado': 'UTC/GMT -7시간',\n",
       " 'Nevada': 'UTC/GMT -8시간',\n",
       " 'Ohio': 'UTC/GMT -5시간',\n",
       " 'Kentucky': 'UTC/GMT -5시간',\n",
       " 'Michigan': 'UTC/GMT -5시간',\n",
       " 'Georgia': 'UTC/GMT -5시간',\n",
       " 'Alaska': 'UTC/GMT -9시간',\n",
       " 'Washington': 'UTC/GMT -8시간',\n",
       " 'Hawaii': 'UTC/GMT -10시간',\n",
       " 'Pennsylvania': 'UTC/GMT -5시간',\n",
       " 'North Carolina': 'UTC/GMT -5시간',\n",
       " 'Maryland': 'UTC/GMT -5시간',\n",
       " 'Arkansas': 'UTC/GMT -6시간',\n",
       " 'Nebraska': 'UTC/GMT -6시간',\n",
       " 'New York': 'UTC/GMT -5시간',\n",
       " 'Rhode Island': 'UTC/GMT -5시간',\n",
       " 'Minnesota': 'UTC/GMT -6시간',\n",
       " 'Vermont': 'UTC/GMT -5시간',\n",
       " 'Louisiana': 'UTC/GMT -6시간',\n",
       " 'Massachusetts': 'UTC/GMT -5시간',\n",
       " 'South Carolina': 'UTC/GMT -5시간',\n",
       " 'Montana': 'UTC/GMT -7시간',\n",
       " 'New Hampshire': 'UTC/GMT -5시간',\n",
       " 'Alabama': 'UTC/GMT -6시간',\n",
       " 'Oklahoma': 'UTC/GMT -6시간',\n",
       " 'Puerto Rico': '',\n",
       " 'Idaho': 'UTC/GMT -7시간',\n",
       " 'Indiana': 'UTC/GMT -5시간',\n",
       " 'Connecticut': 'UTC/GMT -5시간',\n",
       " 'Wisconsin': 'UTC/GMT -6시간',\n",
       " 'Utah': 'UTC/GMT -7시간',\n",
       " 'Oregon': 'UTC/GMT -8시간',\n",
       " 'New Mexico': 'UTC/GMT -7시간',\n",
       " 'Maine': 'UTC/GMT -5시간',\n",
       " 'Iowa': 'UTC/GMT -6시간',\n",
       " 'South Dakota': 'UTC/GMT -6시간',\n",
       " 'North Dakota': 'UTC/GMT -6시간',\n",
       " 'West Virginia': 'UTC/GMT -5시간',\n",
       " 'Wyoming': 'UTC/GMT -7시간',\n",
       " 'U.S. Virgin Islands': '',\n",
       " 'Kansas': 'UTC/GMT -6시간',\n",
       " 'Mississippi': 'UTC/GMT -6시간',\n",
       " 'U.S. Pacific Trust Territories and Possessions': ''}"
      ]
     },
     "execution_count": 46,
     "metadata": {},
     "output_type": "execute_result"
    }
   ],
   "source": [
    "states_dict"
   ]
  },
  {
   "cell_type": "code",
   "execution_count": 47,
   "id": "677a66dc",
   "metadata": {},
   "outputs": [
    {
     "name": "stdout",
     "output_type": "stream",
     "text": [
      "['Puerto Rico', 'U.S. Virgin Islands', 'U.S. Pacific Trust Territories and Possessions']\n"
     ]
    }
   ],
   "source": [
    "empty_values = [key for key, value in states_dict.items() if not value]\n",
    "print(empty_values)"
   ]
  },
  {
   "cell_type": "code",
   "execution_count": 48,
   "id": "3d841648",
   "metadata": {},
   "outputs": [],
   "source": [
    "states_dict['Puerto Rico'] = 'UTC/GMT -4시간'\n",
    "states_dict['U.S. Virgin Islands'] = \"UTC/GMT -4시간\""
   ]
  },
  {
   "cell_type": "code",
   "execution_count": 49,
   "id": "79ef9baf",
   "metadata": {},
   "outputs": [],
   "source": [
    "del states_dict['U.S. Pacific Trust Territories and Possessions']"
   ]
  },
  {
   "cell_type": "code",
   "execution_count": 50,
   "id": "6873937b",
   "metadata": {},
   "outputs": [
    {
     "name": "stdout",
     "output_type": "stream",
     "text": [
      "{'Texas': '-6', 'New Jersey': '-5', 'Illinois': '-6', 'California': '-8', 'Florida': '-5', 'Virginia': '-5', 'Tennessee': '-6', 'Missouri': '-6', 'Arizona': '-7', 'Colorado': '-7', 'Nevada': '-8', 'Ohio': '-5', 'Kentucky': '-5', 'Michigan': '-5', 'Georgia': '-5', 'Alaska': '-9', 'Washington': '-8', 'Hawaii': '-10', 'Pennsylvania': '-5', 'North Carolina': '-5', 'Maryland': '-5', 'Arkansas': '-6', 'Nebraska': '-6', 'New York': '-5', 'Rhode Island': '-5', 'Minnesota': '-6', 'Vermont': '-5', 'Louisiana': '-6', 'Massachusetts': '-5', 'South Carolina': '-5', 'Montana': '-7', 'New Hampshire': '-5', 'Alabama': '-6', 'Oklahoma': '-6', 'Puerto Rico': '-4', 'Idaho': '-7', 'Indiana': '-5', 'Connecticut': '-5', 'Wisconsin': '-6', 'Utah': '-7', 'Oregon': '-8', 'New Mexico': '-7', 'Maine': '-5', 'Iowa': '-6', 'South Dakota': '-6', 'North Dakota': '-6', 'West Virginia': '-5', 'Wyoming': '-7', 'U.S. Virgin Islands': '-4', 'Kansas': '-6', 'Mississippi': '-6'}\n"
     ]
    }
   ],
   "source": [
    "for state, offset_str in states_dict.items():\n",
    "    offset = int(offset_str.split()[1].replace('시간', ''))\n",
    "    states_dict[state] = str(offset)\n",
    "\n",
    "print(states_dict)"
   ]
  },
  {
   "cell_type": "code",
   "execution_count": 51,
   "id": "71bb7a26",
   "metadata": {
    "scrolled": true
   },
   "outputs": [],
   "source": [
    "test_dot['Estimated_Departure_Time_Zone'] = None\n",
    "test_dot[\"Estimated_Arrival_Time_Zone\"] = None\n",
    "\n",
    "for index, row in test_dot.iterrows():\n",
    "    if row[\"Origin_State\"] == 'U.S. Pacific Trust Territories and Possessions':\n",
    "        if row['Origin_Airport'] == 'HNL':\n",
    "            test_dot.at[index, \"Estimated_Departure_Time_Zone\"] = '-10'\n",
    "        else:\n",
    "            test_dot.at[index, \"Estimated_Departure_Time_Zone\"] = '10'\n",
    "    else:\n",
    "        test_dot.at[index, \"Estimated_Departure_Time_Zone\"] = states_dict.get(row['Origin_State'])\n",
    "        \n",
    "    if row[\"Destination_State\"] == 'U.S. Pacific Trust Territories and Possessions':\n",
    "        if row['Destination_Airport'] == 'HNL':\n",
    "            test_dot.at[index, \"Estimated_Arrival_Time_Zone\"] = '-10'\n",
    "        else:\n",
    "            test_dot.at[index, \"Estimated_Arrival_Time_Zone\"] = '10'\n",
    "    else:\n",
    "        test_dot.at[index, \"Estimated_Arrival_Time_Zone\"] = states_dict.get(row['Destination_State'])\n"
   ]
  },
  {
   "cell_type": "code",
   "execution_count": 54,
   "id": "06c1c919",
   "metadata": {},
   "outputs": [],
   "source": [
    "test_dot[\"Estimated_Departure_Time_Zone\"] = test_dot[\"Estimated_Departure_Time_Zone\"].astype(int)\n",
    "test_dot[\"Estimated_Arrival_Time_Zone\"] = test_dot[\"Estimated_Arrival_Time_Zone\"].astype(int)"
   ]
  },
  {
   "cell_type": "code",
   "execution_count": 53,
   "id": "b6d399ff",
   "metadata": {},
   "outputs": [],
   "source": [
    "test_dot.to_csv(\"test_dot_timezone.csv\", index =False)"
   ]
  }
 ],
 "metadata": {
  "kernelspec": {
   "display_name": "Python 3 (ipykernel)",
   "language": "python",
   "name": "python3"
  },
  "language_info": {
   "codemirror_mode": {
    "name": "ipython",
    "version": 3
   },
   "file_extension": ".py",
   "mimetype": "text/x-python",
   "name": "python",
   "nbconvert_exporter": "python",
   "pygments_lexer": "ipython3",
   "version": "3.10.9"
  }
 },
 "nbformat": 4,
 "nbformat_minor": 5
}
