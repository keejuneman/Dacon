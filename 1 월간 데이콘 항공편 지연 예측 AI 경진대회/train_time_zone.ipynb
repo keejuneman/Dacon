{
 "cells": [
  {
   "cell_type": "code",
   "execution_count": 1,
   "id": "ca7b72d3",
   "metadata": {},
   "outputs": [],
   "source": [
    "import numpy as np\n",
    "import pandas as pd\n",
    "import matplotlib.pyplot as plt\n",
    "import seaborn as sns\n",
    "import math\n",
    "import re\n",
    "import requests as req\n",
    "from bs4 import BeautifulSoup as BS"
   ]
  },
  {
   "cell_type": "code",
   "execution_count": 7,
   "id": "0a47a910",
   "metadata": {},
   "outputs": [],
   "source": [
    "train = pd.read_csv(\"train_basic.csv\")\n",
    "train_dot = pd.read_csv(\"train_dot.csv\")"
   ]
  },
  {
   "cell_type": "code",
   "execution_count": 76,
   "id": "e174e79a",
   "metadata": {
    "scrolled": false
   },
   "outputs": [
    {
     "name": "stdout",
     "output_type": "stream",
     "text": [
      "{13851: 'Oklahoma', 13930: 'Illinois', 11057: 'North Carolina', 12892: 'California', 14771: 'California', 11618: 'New Jersey', 12992: 'Arkansas', 11278: 'Virginia', 14100: 'Pennsylvania', 11042: 'Ohio', 13158: 'Texas', 14107: 'Arizona', 14122: 'Pennsylvania', 10529: 'Connecticut', 10821: 'Maryland', 13796: 'California', 10792: 'New York', 15304: 'Florida', 14679: 'California', 14747: 'Washington', 14869: 'Utah', 12266: 'Texas', 10140: 'New Mexico', 11109: 'Colorado', 14057: 'Oregon', 10397: 'Georgia', 13198: 'Missouri', 13244: 'Tennessee', 11259: 'Texas', 14492: 'North Carolina', 12191: 'Texas', 14524: 'Virginia', 12264: 'Virginia', 13795: 'North Carolina', 12478: 'New York', 10299: 'Alaska', 14633: 'Minnesota', 12953: 'New York', 12391: 'New York', 10581: 'Maine', 13871: 'Nebraska', 14576: 'New York', 11066: 'Ohio', 13830: 'Hawaii', 12889: 'Nevada', 13931: 'Virginia', 11252: 'Florida', 11292: 'Colorado', 12206: 'Texas', 13277: 'Alabama', 10620: 'Montana', 13487: 'Minnesota', 13232: 'Illinois', 10627: 'North Dakota', 14831: 'California', 13184: 'Michigan', 14543: 'Wyoming', 10868: 'South Carolina', 13256: 'Texas', 12339: 'Indiana', 13495: 'Louisiana', 11433: 'Michigan', 11298: 'Texas', 14893: 'California', 11697: 'Florida', 11986: 'Michigan', 10800: 'California', 10693: 'Tennessee', 15096: 'New York', 10423: 'Texas', 10721: 'Massachusetts', 12945: 'Kentucky', 11193: 'Kentucky', 13029: 'Nebraska', 13342: 'Wisconsin', 15376: 'Arizona', 15016: 'Missouri', 10781: 'Louisiana', 15412: 'Tennessee', 12954: 'California', 10731: 'Georgia', 10208: 'Georgia', 11638: 'California', 10994: 'South Carolina', 13204: 'Florida', 11823: 'Indiana', 14761: 'Florida', 13264: 'Oregon', 14635: 'Florida', 14321: 'Maine', 14711: 'Pennsylvania', 10874: 'Ohio', 15411: 'Texas', 10599: 'Alabama', 14908: 'California', 11122: 'Wyoming', 10279: 'Texas', 10170: 'Alaska', 12217: 'Alabama', 14683: 'Texas', 11977: 'Wisconsin', 10257: 'New York', 14108: 'Illinois', 13486: 'Montana', 11980: 'Nebraska', 11648: 'Montana', 14025: 'New York', 11884: 'Washington', 10135: 'Pennsylvania', 12173: 'Hawaii', 11540: 'Texas', 12951: 'Louisiana', 13303: 'Florida', 11267: 'Ohio', 11612: 'Indiana', 11577: 'Pennsylvania', 11447: 'North Dakota', 11996: 'South Carolina', 14783: 'Missouri', 14730: 'Kentucky', 14843: 'Puerto Rico', 11146: 'West Virginia', 14814: 'Louisiana', 12891: 'Oklahoma', 10849: 'Montana', 12007: 'Mississippi', 11630: 'Alaska', 12982: 'Hawaii', 14109: 'Mississippi', 11953: 'Florida', 11003: 'Iowa', 14027: 'Florida', 14709: 'Alaska', 14570: 'Nevada', 15991: 'Alaska', 10785: 'Vermont', 11413: 'Colorado', 12124: 'South Carolina', 14698: 'California', 12280: 'Idaho', 12389: 'North Dakota', 11337: 'Minnesota', 15624: 'Florida', 11481: 'Florida', 16218: 'Arizona', 12197: 'New York', 13360: 'Florida', 13230: 'Pennsylvania', 10431: 'North Carolina', 13296: 'New Hampshire', 14262: 'California', 10685: 'Illinois', 11097: 'Wyoming', 15919: 'Arkansas', 12451: 'Florida', 11637: 'North Dakota', 14685: 'Georgia', 11995: 'North Carolina', 11423: 'Iowa', 11921: 'Colorado', 15370: 'Oklahoma', 15024: 'U.S. Virgin Islands', 12819: 'Alaska', 11867: 'Kansas', 12758: 'Hawaii', 12323: 'North Carolina', 14457: 'South Dakota', 15389: 'Idaho', 10967: 'Missouri', 13891: 'California', 14288: 'Colorado', 12402: 'Hawaii', 14004: 'Washington', 13422: 'Alabama', 14574: 'Virginia', 15023: 'California', 12278: 'Kansas', 12012: 'Colorado', 13577: 'South Carolina', 11537: 'New York', 12397: 'New York', 10434: 'Pennsylvania', 14696: 'Indiana', 11203: 'Wisconsin', 11140: 'Texas', 12448: 'Mississippi', 11471: 'Wisconsin', 13502: 'Colorado', 13476: 'California', 14252: 'Washington', 14193: 'Florida', 14098: 'Virginia', 10990: 'Virginia', 10469: 'Michigan', 14489: 'Oregon', 13061: 'Texas', 10713: 'Idaho', 15841: 'Alaska', 12003: 'Montana', 10779: 'Montana', 11778: 'Arkansas', 14986: 'Florida', 13377: 'Louisiana', 14113: 'Idaho', 16101: 'Washington', 14082: 'Florida', 10728: 'Texas', 11076: 'Michigan', 10155: 'Texas', 14520: 'Wisconsin', 10157: 'California', 10980: 'Tennessee', 14960: 'Texas', 12441: 'Wyoming', 11905: 'Texas', 11982: 'Texas', 15249: 'Florida', 12896: 'Texas', 11274: 'Iowa', 11470: 'Washington', 14689: 'California', 14303: 'Washington', 14716: 'California', 12523: 'Alaska', 15323: 'Tennessee', 14092: 'North Carolina', 10666: 'Washington', 14674: 'New Mexico', 10466: 'Arizona', 11695: 'Arizona', 11415: 'Texas', 11067: 'Illinois', 10926: 'Alaska', 15454: 'Illinois', 13964: 'Oregon', 14794: 'Utah', 11308: 'Alabama', 10676: 'Illinois', 11603: 'Oregon', 10747: 'Texas', 14307: 'Rhode Island', 15295: 'Ohio', 11641: 'North Carolina', 12511: 'Missouri', 13873: 'Alaska', 13347: 'Hawaii', 11775: 'South Dakota', 15380: 'Michigan', 13485: 'Wisconsin', 15607: 'Georgia', 14952: 'Illinois', 12544: 'North Carolina', 12223: 'West Virginia', 10754: 'Alaska', 10185: 'Louisiana', 12255: 'Kansas', 12884: 'Michigan', 11865: 'Wyoming', 10918: 'Utah', 14006: 'Kentucky', 11503: 'Colorado', 13459: 'Michigan', 10275: 'Washington', 13433: 'North Dakota', 12156: 'Montana', 10141: 'South Dakota', 12492: 'Hawaii', 14112: 'Florida', 10158: 'New Jersey', 11721: 'Michigan', 13367: 'Illinois', 13139: 'Virginia', 11973: 'Mississippi', 10558: 'Nebraska', 13933: 'Massachusetts', 11027: 'West Virginia', 10408: 'Wisconsin', 10146: 'Georgia', 12177: 'New Mexico', 12094: 'Colorado', 14120: 'South Dakota', 12915: 'Louisiana', 11699: 'South Carolina', 12335: 'Michigan', 11092: 'Utah', 10732: 'Puerto Rico', 13034: 'Hawaii', 12365: 'Pennsylvania', 14588: 'New Mexico', 11617: 'North Carolina', 15070: 'New York', 12902: 'Kansas', 14487: 'California', 11624: 'Florida', 12899: 'Nebraska', 10739: 'Minnesota', 14842: 'Texas', 15048: 'Iowa', 11049: 'Texas', 14955: 'U.S. Pacific Trust Territories and Possessions', 15041: 'Idaho', 15401: 'Arkansas', 10136: 'Texas', 10561: 'California', 10372: 'Colorado', 12917: 'Ohio', 10551: 'Alaska', 14259: 'New Hampshire', 11150: 'Georgia', 13076: 'Wisconsin', 11445: 'Alaska', 14150: 'Michigan', 10409: 'South Dakota', 13970: 'Alaska', 10631: 'Minnesota', 12244: 'Connecticut', 12119: 'Maryland', 11111: 'Missouri', 10333: 'Michigan', 10577: 'New York', 13388: 'California', 14222: 'U.S. Pacific Trust Territories and Possessions', 15897: 'Montana', 15356: 'New Jersey', 13290: 'Kansas', 10268: 'Iowa', 12016: 'U.S. Pacific Trust Territories and Possessions', 10154: 'Massachusetts', 12519: 'North Dakota', 11315: 'North Dakota', 12129: 'Minnesota', 13541: 'Massachusetts', 13241: 'Mississippi', 10361: 'New York', 14802: 'Virginia', 13127: 'Idaho', 14704: 'Maryland', 14828: 'Alaska', 12888: 'Wyoming', 14512: 'Illinois', 14877: 'Kansas', 14582: 'U.S. Pacific Trust Territories and Possessions', 14237: 'Arizona', 13832: 'New York', 11013: 'Michigan', 14254: 'Puerto Rico', 13344: 'Michigan', 15027: 'U.S. Virgin Islands', 11525: 'Nevada', 13121: 'West Virginia', 14256: 'Alaska', 12898: 'Pennsylvania', 12265: 'New York', 13983: 'Kentucky', 11587: 'Michigan', 14231: 'Maine', 15582: 'Utah', 11898: 'North Dakota', 15074: 'Oklahoma', 14314: 'Utah', 12343: 'Minnesota', 15008: 'Minnesota', 10562: 'Alabama', 12250: 'Massachusetts', 11233: 'Wyoming', 14905: 'California', 10643: 'Missouri', 11336: 'Alaska', 16869: 'North Dakota', 13829: 'Utah', 11468: 'Nebraska', 10245: 'Alaska', 11997: 'Alaska', 10165: 'Alaska'}\n"
     ]
    }
   ],
   "source": [
    "origin = train_dot[[\"Origin_Airport_ID\", \"Origin_State\"]]\n",
    "origin = origin.dropna()\n",
    "origin_dict = dict(origin.drop_duplicates().values)\n",
    "\n",
    "print(origin_dict)\n"
   ]
  },
  {
   "cell_type": "code",
   "execution_count": 79,
   "id": "3f5ddb80",
   "metadata": {},
   "outputs": [],
   "source": [
    "for index, row in train_dot.iterrows():\n",
    "    if pd.isna(row[\"Origin_State\"]):\n",
    "        train_dot.at[index, \"Origin_State\"] = origin_dict.get(row[\"Origin_Airport_ID\"], None)"
   ]
  },
  {
   "cell_type": "code",
   "execution_count": 83,
   "id": "a66164cc",
   "metadata": {
    "scrolled": false
   },
   "outputs": [
    {
     "name": "stdout",
     "output_type": "stream",
     "text": [
      "{12191: 'Texas', 14869: 'Utah', 12953: 'New York', 11618: 'New Jersey', 10157: 'California', 11278: 'Virginia', 10721: 'Massachusetts', 13198: 'Missouri', 11057: 'North Carolina', 12266: 'Texas', 14122: 'Pennsylvania', 11433: 'Michigan', 11292: 'Colorado', 12889: 'Nevada', 12451: 'Florida', 10397: 'Georgia', 12264: 'Virginia', 10599: 'Alabama', 14747: 'Washington', 14570: 'Nevada', 10299: 'Alaska', 12478: 'New York', 12945: 'Kentucky', 11697: 'Florida', 14908: 'California', 14057: 'Oregon', 15370: 'Oklahoma', 14893: 'California', 12892: 'California', 14683: 'Texas', 15016: 'Missouri', 14771: 'California', 14307: 'Rhode Island', 14730: 'Kentucky', 11298: 'Texas', 10693: 'Tennessee', 13487: 'Minnesota', 14107: 'Arizona', 13204: 'Florida', 14100: 'Pennsylvania', 14576: 'New York', 10800: 'California', 12339: 'Indiana', 12250: 'Massachusetts', 13930: 'Illinois', 11267: 'Ohio', 10821: 'Maryland', 11259: 'Texas', 10980: 'Tennessee', 13931: 'Virginia', 11066: 'Ohio', 10423: 'Texas', 12758: 'Hawaii', 14698: 'California', 13232: 'Illinois', 10529: 'Connecticut', 13796: 'California', 13296: 'New Hampshire', 11049: 'Texas', 13891: 'California', 14679: 'California', 11146: 'West Virginia', 13303: 'Florida', 11721: 'Michigan', 12992: 'Arkansas', 12519: 'North Dakota', 15304: 'Florida', 14831: 'California', 11193: 'Kentucky', 10140: 'New Mexico', 11612: 'Indiana', 13830: 'Hawaii', 10792: 'New York', 11996: 'South Carolina', 12173: 'Hawaii', 10620: 'Montana', 11042: 'Ohio', 13121: 'West Virginia', 13342: 'Wisconsin', 14635: 'Florida', 14492: 'North Carolina', 14092: 'North Carolina', 10581: 'Maine', 15454: 'Illinois', 13871: 'Nebraska', 12206: 'Texas', 11140: 'Texas', 15919: 'Arkansas', 13367: 'Illinois', 11445: 'Alaska', 13851: 'Oklahoma', 12954: 'California', 12007: 'Mississippi', 11415: 'Texas', 14574: 'Virginia', 12323: 'North Carolina', 14689: 'California', 11638: 'California', 11577: 'Pennsylvania', 11980: 'Nebraska', 10279: 'Texas', 15412: 'Tennessee', 14761: 'Florida', 12003: 'Montana', 12982: 'Hawaii', 10627: 'North Dakota', 10136: 'Texas', 14027: 'Florida', 14711: 'Pennsylvania', 14262: 'California', 11481: 'Florida', 12896: 'Texas', 14685: 'Georgia', 14112: 'Florida', 14524: 'Virginia', 14004: 'Washington', 11109: 'Colorado', 10372: 'Colorado', 10868: 'South Carolina', 12448: 'Mississippi', 14843: 'Puerto Rico', 13230: 'Pennsylvania', 15295: 'Ohio', 11995: 'North Carolina', 11775: 'South Dakota', 12523: 'Alaska', 10275: 'Washington', 10257: 'New York', 11624: 'Florida', 14814: 'Louisiana', 13244: 'Tennessee', 14783: 'Missouri', 10685: 'Illinois', 10561: 'California', 12441: 'Wyoming', 14321: 'Maine', 14108: 'Illinois', 10713: 'Idaho', 13495: 'Louisiana', 12397: 'New York', 11986: 'Michigan', 13577: 'South Carolina', 10874: 'Ohio', 12888: 'Wyoming', 10849: 'Montana', 10994: 'South Carolina', 13158: 'Texas', 11884: 'Washington', 15023: 'California', 12278: 'Kansas', 12951: 'Louisiana', 11525: 'Nevada', 10781: 'Louisiana', 10666: 'Washington', 11471: 'Wisconsin', 15841: 'Alaska', 14193: 'Florida', 10990: 'Virginia', 14006: 'Kentucky', 13433: 'North Dakota', 12902: 'Kansas', 10469: 'Michigan', 14254: 'Puerto Rico', 13795: 'North Carolina', 11076: 'Michigan', 11423: 'Iowa', 11111: 'Missouri', 10754: 'Alaska', 10135: 'Pennsylvania', 11823: 'Indiana', 13184: 'Michigan', 10431: 'North Carolina', 14489: 'Oregon', 12177: 'New Mexico', 13061: 'Texas', 14252: 'Washington', 11413: 'Colorado', 10466: 'Arizona', 12280: 'Idaho', 12391: 'New York', 12217: 'Alabama', 14986: 'Florida', 11027: 'West Virginia', 15096: 'New York', 13360: 'Florida', 11648: 'Montana', 10185: 'Louisiana', 12819: 'Alaska', 14487: 'California', 10408: 'Wisconsin', 10158: 'New Jersey', 12402: 'Hawaii', 11617: 'North Carolina', 14674: 'New Mexico', 13277: 'Alabama', 11540: 'Texas', 11003: 'Iowa', 11973: 'Mississippi', 10551: 'Alaska', 11122: 'Wyoming', 15249: 'Florida', 12156: 'Montana', 11470: 'Washington', 11630: 'Alaska', 14696: 'Indiana', 12197: 'New York', 11603: 'Oregon', 13459: 'Michigan', 14113: 'Idaho', 13476: 'California', 10785: 'Vermont', 10208: 'Georgia', 11503: 'Colorado', 15991: 'Alaska', 10739: 'Minnesota', 15380: 'Michigan', 10268: 'Iowa', 15624: 'Florida', 10747: 'Texas', 15356: 'New Jersey', 11695: 'Arizona', 12511: 'Missouri', 10967: 'Missouri', 14512: 'Illinois', 11097: 'Wyoming', 14704: 'Maryland', 13933: 'Massachusetts', 14109: 'Mississippi', 13502: 'Colorado', 12899: 'Nebraska', 13264: 'Oregon', 12389: 'North Dakota', 13076: 'Wisconsin', 11865: 'Wyoming', 11067: 'Illinois', 11537: 'New York', 12884: 'Michigan', 13485: 'Wisconsin', 15376: 'Arizona', 10141: 'South Dakota', 13422: 'Alabama', 11921: 'Colorado', 14828: 'Alaska', 12094: 'Colorado', 10434: 'Pennsylvania', 13347: 'Hawaii', 10170: 'Alaska', 13290: 'Kansas', 13873: 'Alaska', 11337: 'Minnesota', 13541: 'Massachusetts', 15070: 'New York', 14633: 'Minnesota', 16218: 'Arizona', 14098: 'Virginia', 11778: 'Arkansas', 11641: 'North Carolina', 12343: 'Minnesota', 11977: 'Wisconsin', 15323: 'Tennessee', 11953: 'Florida', 13256: 'Texas', 13377: 'Louisiana', 11905: 'Texas', 14303: 'Washington', 11308: 'Alabama', 15401: 'Arkansas', 14457: 'South Dakota', 11637: 'North Dakota', 13029: 'Nebraska', 14082: 'Florida', 10631: 'Minnesota', 11092: 'Utah', 12223: 'West Virginia', 15074: 'Oklahoma', 13832: 'New York', 10731: 'Georgia', 15048: 'Iowa', 13127: 'Idaho', 14150: 'Michigan', 14877: 'Kansas', 12891: 'Oklahoma', 11699: 'South Carolina', 12016: 'U.S. Pacific Trust Territories and Possessions', 10732: 'Puerto Rico', 13344: 'Michigan', 10676: 'Illinois', 14952: 'Illinois', 10918: 'Utah', 10926: 'Alaska', 11203: 'Wisconsin', 12915: 'Louisiana', 13486: 'Montana', 10333: 'Michigan', 14794: 'Utah', 10558: 'Nebraska', 15027: 'U.S. Virgin Islands', 15607: 'Georgia', 12255: 'Kansas', 14802: 'Virginia', 10146: 'Georgia', 14288: 'Colorado', 14520: 'Wisconsin', 11252: 'Florida', 12917: 'Ohio', 11982: 'Texas', 14025: 'New York', 14842: 'Texas', 10779: 'Montana', 12365: 'Pennsylvania', 12244: 'Connecticut', 12898: 'Pennsylvania', 14955: 'U.S. Pacific Trust Territories and Possessions', 11447: 'North Dakota', 11867: 'Kansas', 15389: 'Idaho', 13139: 'Virginia', 11013: 'Michigan', 12129: 'Minnesota', 14716: 'California', 15024: 'U.S. Virgin Islands', 12492: 'Hawaii', 12544: 'North Carolina', 15041: 'Idaho', 16101: 'Washington', 13964: 'Oregon', 11233: 'Wyoming', 10245: 'Alaska', 13241: 'Mississippi', 14960: 'Texas', 12012: 'Colorado', 10728: 'Texas', 15008: 'Minnesota', 10155: 'Texas', 12265: 'New York', 15411: 'Texas', 14256: 'Alaska', 10154: 'Massachusetts', 13388: 'California', 11274: 'Iowa', 11898: 'North Dakota', 14543: 'Wyoming', 11150: 'Georgia', 11315: 'North Dakota', 10577: 'New York', 16869: 'North Dakota', 13034: 'Hawaii', 10361: 'New York', 14709: 'Alaska', 14314: 'Utah', 11587: 'Michigan', 12124: 'South Carolina', 10562: 'Alabama', 11997: 'Alaska', 14588: 'New Mexico', 13970: 'Alaska', 12335: 'Michigan', 14120: 'South Dakota', 14231: 'Maine', 11336: 'Alaska', 14259: 'New Hampshire', 14237: 'Arizona', 15582: 'Utah', 10409: 'South Dakota', 14905: 'California', 10643: 'Missouri', 13829: 'Utah', 12119: 'Maryland', 15897: 'Montana', 10165: 'Alaska', 14582: 'U.S. Pacific Trust Territories and Possessions', 11468: 'Nebraska', 13983: 'Kentucky', 14222: 'U.S. Pacific Trust Territories and Possessions'}\n"
     ]
    }
   ],
   "source": [
    "origin_2 = train_dot[[\"Destination_Airport_ID\", \"Destination_State\"]]\n",
    "origin_2 = origin_2.dropna()\n",
    "origin_dict_2 = dict(origin_2.drop_duplicates().values)\n",
    "\n",
    "print(origin_dict_2)"
   ]
  },
  {
   "cell_type": "code",
   "execution_count": 88,
   "id": "0679a353",
   "metadata": {},
   "outputs": [],
   "source": [
    "for index, row in train_dot.iterrows():\n",
    "    if pd.isna(row[\"Destination_State\"]):\n",
    "        train_dot.at[index, \"Destination_State\"] = origin_dict.get(row[\"Destination_Airport_ID\"], None)"
   ]
  },
  {
   "cell_type": "code",
   "execution_count": 91,
   "id": "8b48b834",
   "metadata": {},
   "outputs": [],
   "source": [
    "train_dot.at[126925, \"Destination_State\"] = 'Ohio'"
   ]
  },
  {
   "cell_type": "code",
   "execution_count": 109,
   "id": "608b8b6b",
   "metadata": {
    "scrolled": true
   },
   "outputs": [],
   "source": [
    "states = list(train_dot['Origin_State'].unique())"
   ]
  },
  {
   "cell_type": "code",
   "execution_count": 142,
   "id": "4bc1b0d8",
   "metadata": {
    "scrolled": false
   },
   "outputs": [
    {
     "name": "stdout",
     "output_type": "stream",
     "text": [
      "{'Oklahoma': 'UTC/GMT -6시간', 'Illinois': 'UTC/GMT -6시간', 'North Carolina': 'UTC/GMT -5시간', 'California': 'UTC/GMT -8시간', 'New Jersey': 'UTC/GMT -5시간', 'Maryland': 'UTC/GMT -5시간', 'Arkansas': 'UTC/GMT -6시간', 'Virginia': 'UTC/GMT -5시간', 'Pennsylvania': 'UTC/GMT -5시간', 'Ohio': 'UTC/GMT -5시간', 'Texas': 'UTC/GMT -6시간', 'Arizona': 'UTC/GMT -7시간', 'West Virginia': 'UTC/GMT -5시간', 'Connecticut': 'UTC/GMT -5시간', 'New York': 'UTC/GMT -5시간', 'Florida': 'UTC/GMT -5시간', 'Washington': 'UTC/GMT -8시간', 'Utah': 'UTC/GMT -7시간', 'Nevada': 'UTC/GMT -8시간', 'Montana': 'UTC/GMT -7시간', 'New Mexico': 'UTC/GMT -7시간', 'Colorado': 'UTC/GMT -7시간', 'Oregon': 'UTC/GMT -8시간', 'Georgia': 'UTC/GMT -5시간', 'Missouri': 'UTC/GMT -6시간', 'Tennessee': 'UTC/GMT -6시간', 'Hawaii': 'UTC/GMT -10시간', 'Alaska': 'UTC/GMT -9시간', 'Minnesota': 'UTC/GMT -6시간', 'Maine': 'UTC/GMT -5시간', 'Nebraska': 'UTC/GMT -6시간', 'Idaho': 'UTC/GMT -7시간', 'South Carolina': 'UTC/GMT -5시간', 'Alabama': 'UTC/GMT -6시간', 'North Dakota': 'UTC/GMT -6시간', 'Michigan': 'UTC/GMT -5시간', 'Wyoming': 'UTC/GMT -7시간', 'Indiana': 'UTC/GMT -5시간', 'Louisiana': 'UTC/GMT -6시간', 'Iowa': 'UTC/GMT -6시간', 'Massachusetts': 'UTC/GMT -5시간', 'Kentucky': 'UTC/GMT -5시간', 'Wisconsin': 'UTC/GMT -6시간', 'Puerto Rico': '', 'Mississippi': 'UTC/GMT -6시간', 'Vermont': 'UTC/GMT -5시간', 'New Hampshire': 'UTC/GMT -5시간', 'U.S. Virgin Islands': '', 'Kansas': 'UTC/GMT -6시간', 'South Dakota': 'UTC/GMT -6시간', 'Rhode Island': 'UTC/GMT -5시간', 'U.S. Pacific Trust Territories and Possessions': ''}\n"
     ]
    }
   ],
   "source": [
    "states = list(train_dot['Origin_State'].unique())\n",
    "states_dict = {}\n",
    "\n",
    "for state in states:\n",
    "    url = f'https://ko.thetimenow.com/united_states/{state}'\n",
    "    res = req.get(url)\n",
    "    soup = BS(res.text, \"html.parser\")\n",
    "    time_tags = soup.select('body > div.fixed-wraper > section:nth-child(2) > div > article.half-block.clearrm > div > section > div:nth-child(2) > div:nth-child(1)')\n",
    "    offset = ''\n",
    "    for tag in time_tags:\n",
    "        offset += tag.text.strip()\n",
    "    states_dict[state] = offset\n",
    "\n",
    "print(states_dict)"
   ]
  },
  {
   "cell_type": "code",
   "execution_count": 143,
   "id": "20600c53",
   "metadata": {
    "scrolled": true
   },
   "outputs": [
    {
     "data": {
      "text/plain": [
       "{'Oklahoma': 'UTC/GMT -6시간',\n",
       " 'Illinois': 'UTC/GMT -6시간',\n",
       " 'North Carolina': 'UTC/GMT -5시간',\n",
       " 'California': 'UTC/GMT -8시간',\n",
       " 'New Jersey': 'UTC/GMT -5시간',\n",
       " 'Maryland': 'UTC/GMT -5시간',\n",
       " 'Arkansas': 'UTC/GMT -6시간',\n",
       " 'Virginia': 'UTC/GMT -5시간',\n",
       " 'Pennsylvania': 'UTC/GMT -5시간',\n",
       " 'Ohio': 'UTC/GMT -5시간',\n",
       " 'Texas': 'UTC/GMT -6시간',\n",
       " 'Arizona': 'UTC/GMT -7시간',\n",
       " 'West Virginia': 'UTC/GMT -5시간',\n",
       " 'Connecticut': 'UTC/GMT -5시간',\n",
       " 'New York': 'UTC/GMT -5시간',\n",
       " 'Florida': 'UTC/GMT -5시간',\n",
       " 'Washington': 'UTC/GMT -8시간',\n",
       " 'Utah': 'UTC/GMT -7시간',\n",
       " 'Nevada': 'UTC/GMT -8시간',\n",
       " 'Montana': 'UTC/GMT -7시간',\n",
       " 'New Mexico': 'UTC/GMT -7시간',\n",
       " 'Colorado': 'UTC/GMT -7시간',\n",
       " 'Oregon': 'UTC/GMT -8시간',\n",
       " 'Georgia': 'UTC/GMT -5시간',\n",
       " 'Missouri': 'UTC/GMT -6시간',\n",
       " 'Tennessee': 'UTC/GMT -6시간',\n",
       " 'Hawaii': 'UTC/GMT -10시간',\n",
       " 'Alaska': 'UTC/GMT -9시간',\n",
       " 'Minnesota': 'UTC/GMT -6시간',\n",
       " 'Maine': 'UTC/GMT -5시간',\n",
       " 'Nebraska': 'UTC/GMT -6시간',\n",
       " 'Idaho': 'UTC/GMT -7시간',\n",
       " 'South Carolina': 'UTC/GMT -5시간',\n",
       " 'Alabama': 'UTC/GMT -6시간',\n",
       " 'North Dakota': 'UTC/GMT -6시간',\n",
       " 'Michigan': 'UTC/GMT -5시간',\n",
       " 'Wyoming': 'UTC/GMT -7시간',\n",
       " 'Indiana': 'UTC/GMT -5시간',\n",
       " 'Louisiana': 'UTC/GMT -6시간',\n",
       " 'Iowa': 'UTC/GMT -6시간',\n",
       " 'Massachusetts': 'UTC/GMT -5시간',\n",
       " 'Kentucky': 'UTC/GMT -5시간',\n",
       " 'Wisconsin': 'UTC/GMT -6시간',\n",
       " 'Puerto Rico': '',\n",
       " 'Mississippi': 'UTC/GMT -6시간',\n",
       " 'Vermont': 'UTC/GMT -5시간',\n",
       " 'New Hampshire': 'UTC/GMT -5시간',\n",
       " 'U.S. Virgin Islands': '',\n",
       " 'Kansas': 'UTC/GMT -6시간',\n",
       " 'South Dakota': 'UTC/GMT -6시간',\n",
       " 'Rhode Island': 'UTC/GMT -5시간',\n",
       " 'U.S. Pacific Trust Territories and Possessions': ''}"
      ]
     },
     "execution_count": 143,
     "metadata": {},
     "output_type": "execute_result"
    }
   ],
   "source": [
    "states_dict"
   ]
  },
  {
   "cell_type": "code",
   "execution_count": 153,
   "id": "20c78e6b",
   "metadata": {},
   "outputs": [
    {
     "name": "stdout",
     "output_type": "stream",
     "text": [
      "['U.S. Pacific Trust Territories and Possessions']\n"
     ]
    }
   ],
   "source": [
    "empty_values = [key for key, value in states_dict.items() if not value]\n",
    "print(empty_values)"
   ]
  },
  {
   "cell_type": "code",
   "execution_count": 152,
   "id": "095704e8",
   "metadata": {},
   "outputs": [],
   "source": [
    "states_dict['Puerto Rico'] = 'UTC/GMT -4시간'\n",
    "states_dict['U.S. Virgin Islands'] = \"UTC/GMT -4시간\""
   ]
  },
  {
   "cell_type": "code",
   "execution_count": 154,
   "id": "b0e7c585",
   "metadata": {},
   "outputs": [],
   "source": [
    "del states_dict['U.S. Pacific Trust Territories and Possessions']"
   ]
  },
  {
   "cell_type": "code",
   "execution_count": 159,
   "id": "53044604",
   "metadata": {},
   "outputs": [
    {
     "data": {
      "text/plain": [
       "array(['SPN', 'GUM', 'ROP', 'HNL'], dtype=object)"
      ]
     },
     "execution_count": 159,
     "metadata": {},
     "output_type": "execute_result"
    }
   ],
   "source": [
    "train_dot[train_dot['Destination_State'] == 'U.S. Pacific Trust Territories and Possessions']['Origin_Airport'].unique()"
   ]
  },
  {
   "cell_type": "code",
   "execution_count": 156,
   "id": "902d8b59",
   "metadata": {},
   "outputs": [
    {
     "name": "stdout",
     "output_type": "stream",
     "text": [
      "{'Oklahoma': '-6', 'Illinois': '-6', 'North Carolina': '-5', 'California': '-8', 'New Jersey': '-5', 'Maryland': '-5', 'Arkansas': '-6', 'Virginia': '-5', 'Pennsylvania': '-5', 'Ohio': '-5', 'Texas': '-6', 'Arizona': '-7', 'West Virginia': '-5', 'Connecticut': '-5', 'New York': '-5', 'Florida': '-5', 'Washington': '-8', 'Utah': '-7', 'Nevada': '-8', 'Montana': '-7', 'New Mexico': '-7', 'Colorado': '-7', 'Oregon': '-8', 'Georgia': '-5', 'Missouri': '-6', 'Tennessee': '-6', 'Hawaii': '-10', 'Alaska': '-9', 'Minnesota': '-6', 'Maine': '-5', 'Nebraska': '-6', 'Idaho': '-7', 'South Carolina': '-5', 'Alabama': '-6', 'North Dakota': '-6', 'Michigan': '-5', 'Wyoming': '-7', 'Indiana': '-5', 'Louisiana': '-6', 'Iowa': '-6', 'Massachusetts': '-5', 'Kentucky': '-5', 'Wisconsin': '-6', 'Puerto Rico': '-4', 'Mississippi': '-6', 'Vermont': '-5', 'New Hampshire': '-5', 'U.S. Virgin Islands': '-4', 'Kansas': '-6', 'South Dakota': '-6', 'Rhode Island': '-5'}\n"
     ]
    }
   ],
   "source": [
    "for state, offset_str in states_dict.items():\n",
    "    offset = int(offset_str.split()[1].replace('시간', ''))\n",
    "    states_dict[state] = str(offset)\n",
    "\n",
    "print(states_dict)"
   ]
  },
  {
   "cell_type": "code",
   "execution_count": 173,
   "id": "11b5d868",
   "metadata": {
    "scrolled": true
   },
   "outputs": [],
   "source": [
    "train_dot['Estimated_Departure_Time_Zone'] = None\n",
    "train_dot[\"Estimated_Arrival_Time_Zone\"] = None\n",
    "\n",
    "for index, row in train_dot.iterrows():\n",
    "    if row[\"Origin_State\"] == 'U.S. Pacific Trust Territories and Possessions':\n",
    "        if row['Origin_Airport'] == 'HNL':\n",
    "            train_dot.at[index, \"Estimated_Departure_Time_Zone\"] = '-10'\n",
    "        else:\n",
    "            train_dot.at[index, \"Estimated_Departure_Time_Zone\"] = '10'\n",
    "    else:\n",
    "        train_dot.at[index, \"Estimated_Departure_Time_Zone\"] = states_dict.get(row['Origin_State'])\n",
    "        \n",
    "    if row[\"Destination_State\"] == 'U.S. Pacific Trust Territories and Possessions':\n",
    "        if row['Destination_Airport'] == 'HNL':\n",
    "            train_dot.at[index, \"Estimated_Arrival_Time_Zone\"] = '-10'\n",
    "        else:\n",
    "            train_dot.at[index, \"Estimated_Arrival_Time_Zone\"] = '10'\n",
    "    else:\n",
    "        train_dot.at[index, \"Estimated_Arrival_Time_Zone\"] = states_dict.get(row['Destination_State'])\n"
   ]
  },
  {
   "cell_type": "code",
   "execution_count": 177,
   "id": "78297774",
   "metadata": {},
   "outputs": [],
   "source": [
    "train_dot[\"Estimated_Departure_Time_Zone\"] = train_dot[\"Estimated_Departure_Time_Zone\"].astype(int)\n",
    "train_dot[\"Estimated_Arrival_Time_Zone\"] = train_dot[\"Estimated_Arrival_Time_Zone\"].astype(int)"
   ]
  },
  {
   "cell_type": "code",
   "execution_count": 178,
   "id": "a081399d",
   "metadata": {},
   "outputs": [],
   "source": [
    "train_dot.to_csv(\"train_dot_timezone.csv\", index =False)"
   ]
  }
 ],
 "metadata": {
  "kernelspec": {
   "display_name": "Python 3 (ipykernel)",
   "language": "python",
   "name": "python3"
  },
  "language_info": {
   "codemirror_mode": {
    "name": "ipython",
    "version": 3
   },
   "file_extension": ".py",
   "mimetype": "text/x-python",
   "name": "python",
   "nbconvert_exporter": "python",
   "pygments_lexer": "ipython3",
   "version": "3.10.9"
  }
 },
 "nbformat": 4,
 "nbformat_minor": 5
}
