{
 "cells": [
  {
   "cell_type": "code",
   "execution_count": 2,
   "id": "1560c879",
   "metadata": {},
   "outputs": [],
   "source": [
    "import numpy as np\n",
    "import pandas as pd\n",
    "import matplotlib.pyplot as plt\n",
    "import seaborn as sns\n",
    "import math\n",
    "import re\n"
   ]
  },
  {
   "cell_type": "code",
   "execution_count": 75,
   "id": "caba16bf",
   "metadata": {},
   "outputs": [],
   "source": [
    "train = pd.read_csv(\"train.csv\")\n"
   ]
  },
  {
   "cell_type": "code",
   "execution_count": 108,
   "id": "13a02eb3",
   "metadata": {},
   "outputs": [],
   "source": [
    "test = pd.read_csv(\"test.csv\")\n",
    "submission = pd.read_csv(\"sample_submission.csv\")"
   ]
  },
  {
   "cell_type": "markdown",
   "id": "372f61bc",
   "metadata": {},
   "source": [
    "시작시간 없는건 최빈값으로 채우기\n",
    "\n",
    "두 컬럼 둘다 fillna(0) 해주기.\n",
    "\n",
    "분으로 바꿔서 총 운항시간(분) 확인하기\n",
    "\n",
    "distance랑 비교해서 값내고 1분에 몇마일 or 1마일에 몇분 컬럼 추가\n",
    "\n",
    "모든 컬럼값 더해서 평균내기\n",
    "\n",
    "평균낸걸로 distance 비교해서 채우기\n",
    "\n"
   ]
  },
  {
   "cell_type": "code",
   "execution_count": 109,
   "id": "1c6323c9",
   "metadata": {},
   "outputs": [
    {
     "name": "stdout",
     "output_type": "stream",
     "text": [
      "410\n"
     ]
    }
   ],
   "source": [
    "count = test['Estimated_Arrival_Time'].value_counts().get(600.0, 0)\n",
    "print(count)"
   ]
  },
  {
   "cell_type": "code",
   "execution_count": 110,
   "id": "9e097917",
   "metadata": {},
   "outputs": [
    {
     "name": "stdout",
     "output_type": "stream",
     "text": [
      "14623\n"
     ]
    }
   ],
   "source": [
    "count = test['Estimated_Departure_Time'].value_counts().get(600.0, 0)\n",
    "print(count)\n"
   ]
  },
  {
   "cell_type": "code",
   "execution_count": 111,
   "id": "70e1f75d",
   "metadata": {},
   "outputs": [],
   "source": [
    "for index, row in test.iterrows():\n",
    "    if pd.isnull(row['Estimated_Arrival_Time']) and pd.isnull(row['Estimated_Departure_Time']):\n",
    "        test.at[index, 'Estimated_Departure_Time'] = test['Estimated_Departure_Time'].mode().iloc[0]\n"
   ]
  },
  {
   "cell_type": "code",
   "execution_count": 112,
   "id": "783ecf28",
   "metadata": {},
   "outputs": [
    {
     "data": {
      "text/plain": [
       "97056"
      ]
     },
     "execution_count": 112,
     "metadata": {},
     "output_type": "execute_result"
    }
   ],
   "source": [
    "test['Estimated_Departure_Time'].isnull().sum()"
   ]
  },
  {
   "cell_type": "code",
   "execution_count": 113,
   "id": "216bb35a",
   "metadata": {},
   "outputs": [
    {
     "data": {
      "text/plain": [
       "109048"
      ]
     },
     "execution_count": 113,
     "metadata": {},
     "output_type": "execute_result"
    }
   ],
   "source": [
    "test['Estimated_Arrival_Time'].isnull().sum()"
   ]
  },
  {
   "cell_type": "code",
   "execution_count": 114,
   "id": "f703be73",
   "metadata": {},
   "outputs": [
    {
     "name": "stdout",
     "output_type": "stream",
     "text": [
      "0\n"
     ]
    }
   ],
   "source": [
    "null_mask = test[['Estimated_Departure_Time', 'Estimated_Arrival_Time']].isnull().all(axis=1)\n",
    "null_rows = test[null_mask]\n",
    "\n",
    "print(f\"{len(null_rows)}\")\n"
   ]
  },
  {
   "cell_type": "code",
   "execution_count": 115,
   "id": "8ad7b025",
   "metadata": {},
   "outputs": [],
   "source": [
    "test['Estimated_Departure_Time'] = test['Estimated_Departure_Time'].fillna(0)\n",
    "test['Estimated_Departure_Time'] = test['Estimated_Departure_Time'].astype(int)\n",
    "\n",
    "test['Estimated_Arrival_Time'] = test['Estimated_Arrival_Time'].fillna(0)\n",
    "test['Estimated_Arrival_Time'] = test['Estimated_Arrival_Time'].astype(int)"
   ]
  },
  {
   "cell_type": "code",
   "execution_count": null,
   "id": "30ead5b8",
   "metadata": {},
   "outputs": [],
   "source": []
  },
  {
   "cell_type": "code",
   "execution_count": 116,
   "id": "244fc5ce",
   "metadata": {},
   "outputs": [],
   "source": [
    "def convert_to_time(minutes):\n",
    "    hours = minutes // 60\n",
    "    minutes = minutes % 60\n",
    "    return f\"{hours:02d}{minutes:02d}\""
   ]
  },
  {
   "cell_type": "code",
   "execution_count": 117,
   "id": "f7d5895f",
   "metadata": {},
   "outputs": [],
   "source": [
    "def convert_to_minutes(time):    \n",
    "    return int(time // 100) * 60 + int(time % 100)"
   ]
  },
  {
   "cell_type": "code",
   "execution_count": 118,
   "id": "23764800",
   "metadata": {},
   "outputs": [],
   "source": [
    "test['Flight_Time'] = None\n",
    "test['Estimated_Departure_Minutes'] = None\n",
    "test['Estimated_Arrival_Minutes'] = None\n",
    "\n",
    "for index, row in test.iterrows():\n",
    "    dep_time = row['Estimated_Departure_Time']\n",
    "    arr_time = row['Estimated_Arrival_Time']\n",
    "    \n",
    "    if arr_time == 0 and dep_time == 0:\n",
    "        continue\n",
    "        \n",
    "    elif dep_time == 0:\n",
    "        arr_time_in_minutes = convert_to_minutes(arr_time)\n",
    "        test.at[index, 'Estimated_Arrival_Minutes'] = arr_time_in_minutes\n",
    "        \n",
    "    elif arr_time == 0:\n",
    "        dep_time_in_minutes = convert_to_minutes(dep_time)\n",
    "        test.at[index, 'Estimated_Departure_Minutes'] = dep_time_in_minutes\n",
    "        \n",
    "    else:\n",
    "        dep_time_in_minutes = convert_to_minutes(dep_time)\n",
    "        arr_time_in_minutes = convert_to_minutes(arr_time)\n",
    "        \n",
    "        if arr_time_in_minutes < dep_time_in_minutes:\n",
    "            arr_time_in_minutes += 1440\n",
    "        \n",
    "        duration_in_minutes = arr_time_in_minutes - dep_time_in_minutes\n",
    "        test.at[index, 'Flight_Time'] = duration_in_minutes\n",
    "        test.at[index, 'Estimated_Arrival_Minutes'] = arr_time_in_minutes\n",
    "        test.at[index, 'Estimated_Departure_Minutes'] = dep_time_in_minutes\n"
   ]
  },
  {
   "cell_type": "code",
   "execution_count": 119,
   "id": "1988a334",
   "metadata": {},
   "outputs": [],
   "source": [
    "for index, row in test.iterrows():\n",
    "    if pd.isnull(row['Flight_Time']):\n",
    "        test.at[index, 'Flight_Time_per_Distance'] = None\n",
    "    else:\n",
    "        flight_time_per_distance = row['Flight_Time'] / row['Distance']\n",
    "        test.at[index, 'Flight_Time_per_Distance'] = flight_time_per_distance"
   ]
  },
  {
   "cell_type": "code",
   "execution_count": null,
   "id": "e0d0af56",
   "metadata": {},
   "outputs": [],
   "source": []
  },
  {
   "cell_type": "code",
   "execution_count": 120,
   "id": "9d456c34",
   "metadata": {},
   "outputs": [],
   "source": [
    "avg_list = []\n",
    "for index, row in test.iterrows():\n",
    "    if pd.isnull(row['Flight_Time_per_Distance']):\n",
    "        pass\n",
    "    else:\n",
    "        avg_list.append(row['Flight_Time_per_Distance'])\n",
    " "
   ]
  },
  {
   "cell_type": "code",
   "execution_count": 121,
   "id": "6091bc9c",
   "metadata": {},
   "outputs": [
    {
     "name": "stdout",
     "output_type": "stream",
     "text": [
      "183699.93423152083 793896\n"
     ]
    }
   ],
   "source": [
    "print(sum(avg_list), len(avg_list))"
   ]
  },
  {
   "cell_type": "code",
   "execution_count": 122,
   "id": "a4e58c30",
   "metadata": {},
   "outputs": [
    {
     "data": {
      "text/plain": [
       "0.23139042674546897"
      ]
     },
     "execution_count": 122,
     "metadata": {},
     "output_type": "execute_result"
    }
   ],
   "source": [
    "velocity_avg = sum(avg_list) / len(avg_list)\n",
    "velocity_avg"
   ]
  },
  {
   "cell_type": "code",
   "execution_count": 123,
   "id": "042cd2d5",
   "metadata": {},
   "outputs": [],
   "source": [
    "t_f = []\n",
    "for i in avg_list:\n",
    "    if i > velocity_avg:\n",
    "        t_f.append('big')\n",
    "    else:\n",
    "        t_f.append('small')"
   ]
  },
  {
   "cell_type": "code",
   "execution_count": 124,
   "id": "34f316a4",
   "metadata": {},
   "outputs": [
    {
     "name": "stdout",
     "output_type": "stream",
     "text": [
      "498876 295020\n"
     ]
    }
   ],
   "source": [
    "print(t_f.count('small'), t_f.count('big'))"
   ]
  },
  {
   "cell_type": "code",
   "execution_count": 125,
   "id": "0ea09de9",
   "metadata": {},
   "outputs": [],
   "source": [
    "for index, row in test.iterrows():\n",
    "    if row['Flight_Time'] is None:\n",
    "        test.at[index, 'Flight_Time'] = row['Distance'] * velocity_avg\n",
    "    else:\n",
    "        pass"
   ]
  },
  {
   "cell_type": "code",
   "execution_count": 126,
   "id": "ed79e2e0",
   "metadata": {
    "scrolled": true
   },
   "outputs": [
    {
     "data": {
      "text/plain": [
       "0"
      ]
     },
     "execution_count": 126,
     "metadata": {},
     "output_type": "execute_result"
    }
   ],
   "source": [
    "test['Flight_Time'].isnull().sum()"
   ]
  },
  {
   "cell_type": "code",
   "execution_count": 127,
   "id": "2e296d8c",
   "metadata": {},
   "outputs": [
    {
     "data": {
      "text/plain": [
       "Index(['ID', 'Month', 'Day_of_Month', 'Estimated_Departure_Time',\n",
       "       'Estimated_Arrival_Time', 'Cancelled', 'Diverted', 'Origin_Airport',\n",
       "       'Origin_Airport_ID', 'Origin_State', 'Destination_Airport',\n",
       "       'Destination_Airport_ID', 'Destination_State', 'Distance', 'Airline',\n",
       "       'Carrier_Code(IATA)', 'Carrier_ID(DOT)', 'Tail_Number', 'tail_alpha',\n",
       "       'Flight_Time', 'Estimated_Departure_Minutes',\n",
       "       'Estimated_Arrival_Minutes', 'Flight_Time_per_Distance'],\n",
       "      dtype='object')"
      ]
     },
     "execution_count": 127,
     "metadata": {},
     "output_type": "execute_result"
    }
   ],
   "source": [
    "test.columns"
   ]
  },
  {
   "cell_type": "code",
   "execution_count": 128,
   "id": "648682cb",
   "metadata": {},
   "outputs": [],
   "source": [
    "test = test.drop(['ID',  'Day_of_Month', \n",
    "       'Estimated_Arrival_Time', 'Cancelled', 'Diverted', 'Origin_Airport',\n",
    "        'Origin_State', 'Destination_Airport',\n",
    "        'Destination_State',  'Airline',\n",
    "       'Carrier_Code(IATA)',  'Tail_Number', \n",
    "       'tail_alpha', 'Estimated_Departure_Minutes',\n",
    "       'Estimated_Arrival_Minutes', 'Flight_Time_per_Distance'], axis=1)"
   ]
  },
  {
   "cell_type": "code",
   "execution_count": 129,
   "id": "14b6e59d",
   "metadata": {},
   "outputs": [],
   "source": [
    "test.to_csv(\"test_1.csv\", index=False)"
   ]
  },
  {
   "cell_type": "code",
   "execution_count": 131,
   "id": "80f25fcc",
   "metadata": {},
   "outputs": [
    {
     "data": {
      "text/html": [
       "<div>\n",
       "<style scoped>\n",
       "    .dataframe tbody tr th:only-of-type {\n",
       "        vertical-align: middle;\n",
       "    }\n",
       "\n",
       "    .dataframe tbody tr th {\n",
       "        vertical-align: top;\n",
       "    }\n",
       "\n",
       "    .dataframe thead th {\n",
       "        text-align: right;\n",
       "    }\n",
       "</style>\n",
       "<table border=\"1\" class=\"dataframe\">\n",
       "  <thead>\n",
       "    <tr style=\"text-align: right;\">\n",
       "      <th></th>\n",
       "      <th>Month</th>\n",
       "      <th>Estimated_Departure_Time</th>\n",
       "      <th>Origin_Airport_ID</th>\n",
       "      <th>Destination_Airport_ID</th>\n",
       "      <th>Distance</th>\n",
       "      <th>Carrier_ID(DOT)</th>\n",
       "      <th>Delay</th>\n",
       "      <th>Flight_Time</th>\n",
       "    </tr>\n",
       "  </thead>\n",
       "  <tbody>\n",
       "    <tr>\n",
       "      <th>0</th>\n",
       "      <td>4</td>\n",
       "      <td>600</td>\n",
       "      <td>13851</td>\n",
       "      <td>12191</td>\n",
       "      <td>419.0</td>\n",
       "      <td>19393.0</td>\n",
       "      <td>NaN</td>\n",
       "      <td>97.601139</td>\n",
       "    </tr>\n",
       "    <tr>\n",
       "      <th>1</th>\n",
       "      <td>8</td>\n",
       "      <td>740</td>\n",
       "      <td>13930</td>\n",
       "      <td>14869</td>\n",
       "      <td>1250.0</td>\n",
       "      <td>20304.0</td>\n",
       "      <td>NaN</td>\n",
       "      <td>164</td>\n",
       "    </tr>\n",
       "    <tr>\n",
       "      <th>2</th>\n",
       "      <td>9</td>\n",
       "      <td>1610</td>\n",
       "      <td>11057</td>\n",
       "      <td>12953</td>\n",
       "      <td>544.0</td>\n",
       "      <td>19805.0</td>\n",
       "      <td>NaN</td>\n",
       "      <td>115</td>\n",
       "    </tr>\n",
       "    <tr>\n",
       "      <th>3</th>\n",
       "      <td>7</td>\n",
       "      <td>905</td>\n",
       "      <td>12892</td>\n",
       "      <td>11618</td>\n",
       "      <td>2454.0</td>\n",
       "      <td>19977.0</td>\n",
       "      <td>NaN</td>\n",
       "      <td>510</td>\n",
       "    </tr>\n",
       "    <tr>\n",
       "      <th>4</th>\n",
       "      <td>1</td>\n",
       "      <td>900</td>\n",
       "      <td>14771</td>\n",
       "      <td>10157</td>\n",
       "      <td>250.0</td>\n",
       "      <td>20304.0</td>\n",
       "      <td>NaN</td>\n",
       "      <td>79</td>\n",
       "    </tr>\n",
       "    <tr>\n",
       "      <th>...</th>\n",
       "      <td>...</td>\n",
       "      <td>...</td>\n",
       "      <td>...</td>\n",
       "      <td>...</td>\n",
       "      <td>...</td>\n",
       "      <td>...</td>\n",
       "      <td>...</td>\n",
       "      <td>...</td>\n",
       "    </tr>\n",
       "    <tr>\n",
       "      <th>999995</th>\n",
       "      <td>9</td>\n",
       "      <td>936</td>\n",
       "      <td>13930</td>\n",
       "      <td>14100</td>\n",
       "      <td>678.0</td>\n",
       "      <td>19977.0</td>\n",
       "      <td>NaN</td>\n",
       "      <td>187</td>\n",
       "    </tr>\n",
       "    <tr>\n",
       "      <th>999996</th>\n",
       "      <td>5</td>\n",
       "      <td>920</td>\n",
       "      <td>11637</td>\n",
       "      <td>13487</td>\n",
       "      <td>223.0</td>\n",
       "      <td>20304.0</td>\n",
       "      <td>NaN</td>\n",
       "      <td>68</td>\n",
       "    </tr>\n",
       "    <tr>\n",
       "      <th>999997</th>\n",
       "      <td>6</td>\n",
       "      <td>800</td>\n",
       "      <td>13796</td>\n",
       "      <td>12191</td>\n",
       "      <td>1642.0</td>\n",
       "      <td>19393.0</td>\n",
       "      <td>NaN</td>\n",
       "      <td>340</td>\n",
       "    </tr>\n",
       "    <tr>\n",
       "      <th>999998</th>\n",
       "      <td>9</td>\n",
       "      <td>1613</td>\n",
       "      <td>10693</td>\n",
       "      <td>10397</td>\n",
       "      <td>214.0</td>\n",
       "      <td>19790.0</td>\n",
       "      <td>NaN</td>\n",
       "      <td>131</td>\n",
       "    </tr>\n",
       "    <tr>\n",
       "      <th>999999</th>\n",
       "      <td>3</td>\n",
       "      <td>1800</td>\n",
       "      <td>14635</td>\n",
       "      <td>11433</td>\n",
       "      <td>1084.0</td>\n",
       "      <td>19790.0</td>\n",
       "      <td>NaN</td>\n",
       "      <td>176</td>\n",
       "    </tr>\n",
       "  </tbody>\n",
       "</table>\n",
       "<p>1000000 rows × 8 columns</p>\n",
       "</div>"
      ],
      "text/plain": [
       "        Month  Estimated_Departure_Time  Origin_Airport_ID  \\\n",
       "0           4                       600              13851   \n",
       "1           8                       740              13930   \n",
       "2           9                      1610              11057   \n",
       "3           7                       905              12892   \n",
       "4           1                       900              14771   \n",
       "...       ...                       ...                ...   \n",
       "999995      9                       936              13930   \n",
       "999996      5                       920              11637   \n",
       "999997      6                       800              13796   \n",
       "999998      9                      1613              10693   \n",
       "999999      3                      1800              14635   \n",
       "\n",
       "        Destination_Airport_ID  Distance  Carrier_ID(DOT) Delay Flight_Time  \n",
       "0                        12191     419.0          19393.0   NaN   97.601139  \n",
       "1                        14869    1250.0          20304.0   NaN         164  \n",
       "2                        12953     544.0          19805.0   NaN         115  \n",
       "3                        11618    2454.0          19977.0   NaN         510  \n",
       "4                        10157     250.0          20304.0   NaN          79  \n",
       "...                        ...       ...              ...   ...         ...  \n",
       "999995                   14100     678.0          19977.0   NaN         187  \n",
       "999996                   13487     223.0          20304.0   NaN          68  \n",
       "999997                   12191    1642.0          19393.0   NaN         340  \n",
       "999998                   10397     214.0          19790.0   NaN         131  \n",
       "999999                   11433    1084.0          19790.0   NaN         176  \n",
       "\n",
       "[1000000 rows x 8 columns]"
      ]
     },
     "execution_count": 131,
     "metadata": {},
     "output_type": "execute_result"
    }
   ],
   "source": [
    "train"
   ]
  },
  {
   "cell_type": "code",
   "execution_count": 130,
   "id": "12a00bdd",
   "metadata": {},
   "outputs": [
    {
     "data": {
      "text/html": [
       "<div>\n",
       "<style scoped>\n",
       "    .dataframe tbody tr th:only-of-type {\n",
       "        vertical-align: middle;\n",
       "    }\n",
       "\n",
       "    .dataframe tbody tr th {\n",
       "        vertical-align: top;\n",
       "    }\n",
       "\n",
       "    .dataframe thead th {\n",
       "        text-align: right;\n",
       "    }\n",
       "</style>\n",
       "<table border=\"1\" class=\"dataframe\">\n",
       "  <thead>\n",
       "    <tr style=\"text-align: right;\">\n",
       "      <th></th>\n",
       "      <th>Month</th>\n",
       "      <th>Estimated_Departure_Time</th>\n",
       "      <th>Origin_Airport_ID</th>\n",
       "      <th>Destination_Airport_ID</th>\n",
       "      <th>Distance</th>\n",
       "      <th>Carrier_ID(DOT)</th>\n",
       "      <th>Flight_Time</th>\n",
       "    </tr>\n",
       "  </thead>\n",
       "  <tbody>\n",
       "    <tr>\n",
       "      <th>0</th>\n",
       "      <td>12</td>\n",
       "      <td>1156</td>\n",
       "      <td>12266</td>\n",
       "      <td>14683</td>\n",
       "      <td>191.0</td>\n",
       "      <td>19977.0</td>\n",
       "      <td>44.195572</td>\n",
       "    </tr>\n",
       "    <tr>\n",
       "      <th>1</th>\n",
       "      <td>9</td>\n",
       "      <td>1500</td>\n",
       "      <td>11618</td>\n",
       "      <td>10397</td>\n",
       "      <td>746.0</td>\n",
       "      <td>19790.0</td>\n",
       "      <td>135</td>\n",
       "    </tr>\n",
       "    <tr>\n",
       "      <th>2</th>\n",
       "      <td>3</td>\n",
       "      <td>1600</td>\n",
       "      <td>13930</td>\n",
       "      <td>12953</td>\n",
       "      <td>733.0</td>\n",
       "      <td>19977.0</td>\n",
       "      <td>195</td>\n",
       "    </tr>\n",
       "    <tr>\n",
       "      <th>3</th>\n",
       "      <td>5</td>\n",
       "      <td>1920</td>\n",
       "      <td>13796</td>\n",
       "      <td>12892</td>\n",
       "      <td>337.0</td>\n",
       "      <td>19393.0</td>\n",
       "      <td>85</td>\n",
       "    </tr>\n",
       "    <tr>\n",
       "      <th>4</th>\n",
       "      <td>7</td>\n",
       "      <td>1915</td>\n",
       "      <td>11697</td>\n",
       "      <td>12892</td>\n",
       "      <td>2343.0</td>\n",
       "      <td>20409.0</td>\n",
       "      <td>157</td>\n",
       "    </tr>\n",
       "    <tr>\n",
       "      <th>...</th>\n",
       "      <td>...</td>\n",
       "      <td>...</td>\n",
       "      <td>...</td>\n",
       "      <td>...</td>\n",
       "      <td>...</td>\n",
       "      <td>...</td>\n",
       "      <td>...</td>\n",
       "    </tr>\n",
       "    <tr>\n",
       "      <th>999995</th>\n",
       "      <td>6</td>\n",
       "      <td>0</td>\n",
       "      <td>12892</td>\n",
       "      <td>11292</td>\n",
       "      <td>862.0</td>\n",
       "      <td>19393.0</td>\n",
       "      <td>199.458548</td>\n",
       "    </tr>\n",
       "    <tr>\n",
       "      <th>999996</th>\n",
       "      <td>6</td>\n",
       "      <td>600</td>\n",
       "      <td>10792</td>\n",
       "      <td>13930</td>\n",
       "      <td>473.0</td>\n",
       "      <td>19977.0</td>\n",
       "      <td>48</td>\n",
       "    </tr>\n",
       "    <tr>\n",
       "      <th>999997</th>\n",
       "      <td>6</td>\n",
       "      <td>1710</td>\n",
       "      <td>12264</td>\n",
       "      <td>11433</td>\n",
       "      <td>383.0</td>\n",
       "      <td>20378.0</td>\n",
       "      <td>117</td>\n",
       "    </tr>\n",
       "    <tr>\n",
       "      <th>999998</th>\n",
       "      <td>11</td>\n",
       "      <td>0</td>\n",
       "      <td>14679</td>\n",
       "      <td>10721</td>\n",
       "      <td>2588.0</td>\n",
       "      <td>20409.0</td>\n",
       "      <td>598.838424</td>\n",
       "    </tr>\n",
       "    <tr>\n",
       "      <th>999999</th>\n",
       "      <td>10</td>\n",
       "      <td>1220</td>\n",
       "      <td>13796</td>\n",
       "      <td>12892</td>\n",
       "      <td>337.0</td>\n",
       "      <td>19393.0</td>\n",
       "      <td>85</td>\n",
       "    </tr>\n",
       "  </tbody>\n",
       "</table>\n",
       "<p>1000000 rows × 7 columns</p>\n",
       "</div>"
      ],
      "text/plain": [
       "        Month  Estimated_Departure_Time  Origin_Airport_ID  \\\n",
       "0          12                      1156              12266   \n",
       "1           9                      1500              11618   \n",
       "2           3                      1600              13930   \n",
       "3           5                      1920              13796   \n",
       "4           7                      1915              11697   \n",
       "...       ...                       ...                ...   \n",
       "999995      6                         0              12892   \n",
       "999996      6                       600              10792   \n",
       "999997      6                      1710              12264   \n",
       "999998     11                         0              14679   \n",
       "999999     10                      1220              13796   \n",
       "\n",
       "        Destination_Airport_ID  Distance  Carrier_ID(DOT) Flight_Time  \n",
       "0                        14683     191.0          19977.0   44.195572  \n",
       "1                        10397     746.0          19790.0         135  \n",
       "2                        12953     733.0          19977.0         195  \n",
       "3                        12892     337.0          19393.0          85  \n",
       "4                        12892    2343.0          20409.0         157  \n",
       "...                        ...       ...              ...         ...  \n",
       "999995                   11292     862.0          19393.0  199.458548  \n",
       "999996                   13930     473.0          19977.0          48  \n",
       "999997                   11433     383.0          20378.0         117  \n",
       "999998                   10721    2588.0          20409.0  598.838424  \n",
       "999999                   12892     337.0          19393.0          85  \n",
       "\n",
       "[1000000 rows x 7 columns]"
      ]
     },
     "execution_count": 130,
     "metadata": {},
     "output_type": "execute_result"
    }
   ],
   "source": [
    "test"
   ]
  }
 ],
 "metadata": {
  "kernelspec": {
   "display_name": "Python 3 (ipykernel)",
   "language": "python",
   "name": "python3"
  },
  "language_info": {
   "codemirror_mode": {
    "name": "ipython",
    "version": 3
   },
   "file_extension": ".py",
   "mimetype": "text/x-python",
   "name": "python",
   "nbconvert_exporter": "python",
   "pygments_lexer": "ipython3",
   "version": "3.10.9"
  }
 },
 "nbformat": 4,
 "nbformat_minor": 5
}
